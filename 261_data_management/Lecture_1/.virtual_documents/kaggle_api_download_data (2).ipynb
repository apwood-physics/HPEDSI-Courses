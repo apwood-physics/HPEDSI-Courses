


!pip install kaggle


!pip install --user kaggle


!kaggle --version


#!pip uninstall kaggle



### Second Step: Create an account on kaggle

      Third Step: Under little profile picture >> select 'Account' option 

      Fourth Step: Under Account >> scroll down to the middle of the site and you will have 'Create API token'



!chmod 600 ~/.kaggle/kaggle.json




!chmod 600 ~/.kaggle/kaggle.json


!kaggle competitions list


!kaggle datasets download -d martinsn/high-frequency-crypto-limit-order-book-data


!kaggle datasets list


!kaggle datasets list


!unzip reddit-wallstreetsbets-posts.zip



#from .kaggle_api import KaggleApi
#from kaggle.api.kaggle_api_extended import KaggleApi

#api = KaggleApi('write your key here')
#api.authenticate()



