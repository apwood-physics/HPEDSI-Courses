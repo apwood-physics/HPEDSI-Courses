


#libraries
import json
import requests
#from urllib.request import urlopen
import pandas as pd
#import ast


#provide the url
url = url = "https://api.apilayer.com/exchangerates_data/latest?symbols"
payload = {}
headers= {
  "apikey": "HJN9Jwrd0xZeg2IeWII4DfU1u431jJpo"
}

#"https://api.exchangeratesapi.io/latest? access key:value pair"


#store the reqaccess key:value pairuest

store = requests.get(url, headers=headers, data = payload)
data = store.text
data


#json function which reads the data in python dictionary form
#response = urlopen(url)

dict_form = json.loads(data)['rates']
dict_form

#df = pd.DataFrame(dict_form,index = [0])
#df



#data reshaping 
#d = pd.melt(df, value_vars=df.iloc[:167])
#d


#d.rename(columns = {'variable':'Rates_var','value':'rate'})


#just date information
#data = dict_form["rates"]
#data


#btc = dict_form["rates"]["BTC"]
#usd = dict_form["rates"]["USD"]
#print(btc,usd)





#print 
#print("On " + data + " EUR equals " + str() + " GBP")
#print("On " + data + " EUR equals " + str(usd) + " USD")
 



print(json.dumps(dict_form, indent=2))

#usd_rates = dict()




d1 =pd.json_normalize(dict_form)
d1









