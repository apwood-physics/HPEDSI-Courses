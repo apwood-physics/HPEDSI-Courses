



!pip install requests


!pip install beautifulsoup4 


!pip install lxml


#Import libraries

import requests
from bs4 import BeautifulSoup






url = "https://newyork.craigslist.org/search/trv?"

# getting the webpage
response = requests.get(url)

# extracting the source code of the page
data = response.text

# passing the source code to Beautiful Soup
soup = BeautifulSoup(data, 'lxml')

# Extracting all the <a> tags whose class name is 'result-title' into a list.
titles = soup.findAll('a',{'class': 'result-title'})
#prices = soup.findAll('span',{'class': 'result-prices'})

# Extracting text from the the <a> tags, i.e. class titles.
for title in titles:
    print(title.prettify())
    print(title.text)

# Extracting text from the the <span> tags, i.e. class titles.
#for price in prices:
    #print(price.text)

