{
 "cells": [
  {
   "cell_type": "markdown",
   "metadata": {},
   "source": [
    " 1. Write a python program that will find the longest word in a file. The program should print the word and the number of characters in that word. Hint you would be using dictionaries, string module, and files for this exercise. The file for this exercise is ‘TomSawyer.txt’"
   ]
  },
  {
   "cell_type": "code",
   "execution_count": 1,
   "metadata": {
    "tags": []
   },
   "outputs": [],
   "source": [
    "def find_longest(strings):\n",
    "    \"\"\"Function which find the length of strings in an iterable iterable, returns a tuple of the longest word and its length.\"\"\"\n",
    "    lengths = [(s, len(s)) for s in set(strings)]\n",
    "    _, max_length = max(lengths, key=lambda x: x[1])\n",
    "    longest_words = [word for word, _ in filter(lambda s: s[1] == max_length, lengths)]\n",
    "    return longest_words, max_length\n",
    "\n",
    "\n",
    "def remove_chars(string):\n",
    "    \"\"\"Function responsible for identifying various characters in a string, removing them, and returns the modified string\"\"\"\n",
    "\n",
    "    charset = r\"\"\"()'\"?!,#*.-;:%^&@[]{}|<>`~/\\\\=+\"\"\"\n",
    "    for char in string:\n",
    "        if char in charset:\n",
    "            string = string.replace(char, \" \")\n",
    "    return string\n",
    "\n",
    "\n",
    "def process_lines(lines):\n",
    "    \"\"\"This function iterates over a iterable of strings, stripping punctuation and other characters,\n",
    "    and returns a flat list of individual words.\n",
    "    \"\"\"\n",
    "    splits = map(lambda line: remove_chars(line.rstrip()).split(), lines)\n",
    "    words = [word.lower() for line in splits for word in line]\n",
    "    return words\n",
    "\n",
    "\n",
    "def find_longest_word(filename):\n",
    "    with open(filename) as f:\n",
    "        words = process_lines(f)\n",
    "    longest_words, max_length = find_longest(words)\n",
    "    if len(longest_words) > 1:\n",
    "        print(f\"There were multiple matches. The longest words, with a length of {max_length} characters, are:\")\n",
    "\n",
    "        print(\"\\t\", *longest_words, sep=\"\\n\\t\")\n",
    "    else:\n",
    "        word = longest_words[0]\n",
    "        print(f'The longest word is \"{word}\" and is {max_length} characters long.')"
   ]
  },
  {
   "cell_type": "code",
   "execution_count": 2,
   "metadata": {
    "tags": []
   },
   "outputs": [
    {
     "name": "stdout",
     "output_type": "stream",
     "text": [
      "There were multiple matches. The longest words, with a length of 16 characters, are:\n",
      "\t\n",
      "\tunenforceability\n",
      "\tforetopmaststuns\n"
     ]
    }
   ],
   "source": [
    "find_longest_word(\"TomSawyer.txt\")"
   ]
  },
  {
   "cell_type": "markdown",
   "metadata": {},
   "source": [
    "# NOTE: \"foretopmaststuns\" is not a bug. This word is on line 3424 of TomSawyer.txt.\n",
    ">\"Send the r'yals up! Lay out aloft, there, half a dozen of ye\n",
    ">-- foretopmaststuns'l! Lively, now!\""
   ]
  },
  {
   "cell_type": "code",
   "execution_count": null,
   "metadata": {},
   "outputs": [],
   "source": []
  }
 ],
 "metadata": {
  "kernelspec": {
   "display_name": "Python 3 (ipykernel)",
   "language": "python",
   "name": "python3"
  },
  "language_info": {
   "codemirror_mode": {
    "name": "ipython",
    "version": 3
   },
   "file_extension": ".py",
   "mimetype": "text/x-python",
   "name": "python",
   "nbconvert_exporter": "python",
   "pygments_lexer": "ipython3",
   "version": "3.10.9"
  }
 },
 "nbformat": 4,
 "nbformat_minor": 4
}
