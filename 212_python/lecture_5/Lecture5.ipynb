{
 "cells": [
  {
   "cell_type": "markdown",
   "metadata": {},
   "source": [
    "# Dictionarys"
   ]
  },
  {
   "cell_type": "code",
   "execution_count": 35,
   "metadata": {},
   "outputs": [
    {
     "name": "stdout",
     "output_type": "stream",
     "text": [
      "{}\n"
     ]
    }
   ],
   "source": [
    "acronyms={} # create empty dictionary\n",
    "print (acronyms)"
   ]
  },
  {
   "cell_type": "code",
   "execution_count": 36,
   "metadata": {},
   "outputs": [
    {
     "name": "stdout",
     "output_type": "stream",
     "text": [
      "{'lol': 'laughing out loud'}\n"
     ]
    }
   ],
   "source": [
    "acronyms['lol'] = \"laughing out loud\"\n",
    "print (acronyms)"
   ]
  },
  {
   "cell_type": "code",
   "execution_count": 37,
   "metadata": {},
   "outputs": [
    {
     "data": {
      "text/plain": [
       "1"
      ]
     },
     "execution_count": 37,
     "metadata": {},
     "output_type": "execute_result"
    }
   ],
   "source": [
    "len(acronyms)"
   ]
  },
  {
   "cell_type": "code",
   "execution_count": 38,
   "metadata": {},
   "outputs": [
    {
     "name": "stdout",
     "output_type": "stream",
     "text": [
      "{'lol': 'laughing out loud', 'tty': 'talk to you later', 'bfn': 'bye for now'}\n"
     ]
    }
   ],
   "source": [
    "\n",
    "acronyms['tty'] = \"talk to you later\"\n",
    "acronyms['bfn'] = \"bye for now\"\n",
    "print (acronyms)"
   ]
  },
  {
   "cell_type": "code",
   "execution_count": 39,
   "metadata": {},
   "outputs": [
    {
     "data": {
      "text/plain": [
       "3"
      ]
     },
     "execution_count": 39,
     "metadata": {},
     "output_type": "execute_result"
    }
   ],
   "source": [
    "len(acronyms)"
   ]
  },
  {
   "cell_type": "code",
   "execution_count": 40,
   "metadata": {},
   "outputs": [
    {
     "name": "stdout",
     "output_type": "stream",
     "text": [
      "{'lol': 'Laughing Out Loud', 'tty': 'talk to you later', 'bfn': 'bye for now'}\n"
     ]
    }
   ],
   "source": [
    "acronyms['lol'] = \"Laughing Out Loud\"\n",
    "print (acronyms)"
   ]
  },
  {
   "cell_type": "code",
   "execution_count": 41,
   "metadata": {},
   "outputs": [
    {
     "name": "stdout",
     "output_type": "stream",
     "text": [
      "{'lol': 'Laughing Out Loud', 'tty': 'talk to you later', 'bfn': 'bye for now'}\n"
     ]
    }
   ],
   "source": [
    "acronyms['lol'] = \"Laughing Out Loud\"\n",
    "print (acronyms)"
   ]
  },
  {
   "cell_type": "code",
   "execution_count": 42,
   "metadata": {},
   "outputs": [
    {
     "data": {
      "text/plain": [
       "3"
      ]
     },
     "execution_count": 42,
     "metadata": {},
     "output_type": "execute_result"
    }
   ],
   "source": [
    "len(acronyms)"
   ]
  },
  {
   "cell_type": "code",
   "execution_count": 43,
   "metadata": {},
   "outputs": [],
   "source": [
    "acronyms = {'bfn': 'bye for now', 'tty': 'talk to you later', 'lol': 'laughing out loud'}"
   ]
  },
  {
   "cell_type": "code",
   "execution_count": 44,
   "metadata": {},
   "outputs": [
    {
     "data": {
      "text/plain": [
       "{'bfn': 'bye for now', 'tty': 'talk to you later', 'lol': 'laughing out loud'}"
      ]
     },
     "execution_count": 44,
     "metadata": {},
     "output_type": "execute_result"
    }
   ],
   "source": [
    "acronyms"
   ]
  },
  {
   "cell_type": "code",
   "execution_count": 45,
   "metadata": {},
   "outputs": [],
   "source": [
    "#Example: Store the employee records indexed by SS#\n",
    "Employees = {456965079: 'David Smith', \n",
    "             823878356: 'Lisa Miller',\n",
    "             813756744: 'Pat Murphy'  }\n"
   ]
  },
  {
   "cell_type": "code",
   "execution_count": 46,
   "metadata": {},
   "outputs": [
    {
     "data": {
      "text/plain": [
       "{456965079: 'David Smith', 823878356: 'Lisa Miller', 813756744: 'Pat Murphy'}"
      ]
     },
     "execution_count": 46,
     "metadata": {},
     "output_type": "execute_result"
    }
   ],
   "source": [
    "Employees"
   ]
  },
  {
   "cell_type": "code",
   "execution_count": 47,
   "metadata": {},
   "outputs": [
    {
     "name": "stdout",
     "output_type": "stream",
     "text": [
      "David Smith\n"
     ]
    }
   ],
   "source": [
    "if 456965079 in Employees:\n",
    "    print(Employees[456965079])\n",
    "else:\n",
    "    print(\"This SSN doesn't exist in our data base\")\n"
   ]
  },
  {
   "cell_type": "code",
   "execution_count": 48,
   "metadata": {},
   "outputs": [
    {
     "name": "stdout",
     "output_type": "stream",
     "text": [
      "This SSN doesn't exist in our data base\n"
     ]
    }
   ],
   "source": [
    "x= 488965079\n",
    "if x in Employees:\n",
    "    print(Employees[x])\n",
    "else:\n",
    "    print(\"This SSN doesn't exist in our data base\")"
   ]
  },
  {
   "cell_type": "code",
   "execution_count": 49,
   "metadata": {},
   "outputs": [
    {
     "name": "stdout",
     "output_type": "stream",
     "text": [
      "This SSN doesn't exist in our data base\n"
     ]
    },
    {
     "name": "stdin",
     "output_type": "stream",
     "text": [
      "Enter the New Employees name\n",
      " Tom Hanks\n"
     ]
    },
    {
     "name": "stdout",
     "output_type": "stream",
     "text": [
      "We just added Tom Hanks to our database\n"
     ]
    },
    {
     "data": {
      "text/plain": [
       "{456965079: 'David Smith',\n",
       " 823878356: 'Lisa Miller',\n",
       " 813756744: 'Pat Murphy',\n",
       " 456965080: 'Tom Hanks'}"
      ]
     },
     "execution_count": 49,
     "metadata": {},
     "output_type": "execute_result"
    }
   ],
   "source": [
    "x=456965080\n",
    "if x in Employees:\n",
    "    print(Employees[x])\n",
    "else:\n",
    "    print(\"This SSN doesn't exist in our data base\")\n",
    "    name=input(\"Enter the New Employees name\\n\")\n",
    "    Employees[x]= name\n",
    "    print(f\"We just added {name} to our database\")\n",
    "\n",
    "Employees  "
   ]
  },
  {
   "cell_type": "code",
   "execution_count": 50,
   "metadata": {},
   "outputs": [],
   "source": [
    "def checkE(x, data):\n",
    "    if x in data:\n",
    "        print(data[x])\n",
    "    else:\n",
    "        print(\"This SSN doesn't exist in our data base\")\n",
    "        name=input(\"Enter Employees name\\n\")\n",
    "        data[x]= name\n",
    "        print(f\"We just added {name} to our database\")"
   ]
  },
  {
   "cell_type": "code",
   "execution_count": 54,
   "metadata": {},
   "outputs": [
    {
     "name": "stdout",
     "output_type": "stream",
     "text": [
      "This SSN doesn't exist in our data base\n"
     ]
    },
    {
     "name": "stdin",
     "output_type": "stream",
     "text": [
      "Enter Employees name\n",
      " Tina Benson\n"
     ]
    },
    {
     "name": "stdout",
     "output_type": "stream",
     "text": [
      "We just added Tina Benson to our database\n"
     ]
    }
   ],
   "source": [
    "checkE(8999987898,Employees)"
   ]
  },
  {
   "cell_type": "code",
   "execution_count": 55,
   "metadata": {},
   "outputs": [
    {
     "data": {
      "text/plain": [
       "{456965079: 'David Smith',\n",
       " 823878356: 'Lisa Miller',\n",
       " 813756744: 'Pat Murphy',\n",
       " 456965080: 'Tom Hanks',\n",
       " 899998998: 'Larry Mills',\n",
       " 8999987898: 'Tina Benson'}"
      ]
     },
     "execution_count": 55,
     "metadata": {},
     "output_type": "execute_result"
    }
   ],
   "source": [
    "Employees"
   ]
  },
  {
   "cell_type": "code",
   "execution_count": 56,
   "metadata": {},
   "outputs": [
    {
     "name": "stdout",
     "output_type": "stream",
     "text": [
      "This SSN doesn't exist in our data base\n"
     ]
    },
    {
     "name": "stdin",
     "output_type": "stream",
     "text": [
      "Enter Employees name\n",
      " Indiana Jones\n"
     ]
    },
    {
     "name": "stdout",
     "output_type": "stream",
     "text": [
      "We just added Indiana Jones to our database\n",
      "This SSN doesn't exist in our data base\n"
     ]
    },
    {
     "name": "stdin",
     "output_type": "stream",
     "text": [
      "Enter Employees name\n",
      " Larry Page\n"
     ]
    },
    {
     "name": "stdout",
     "output_type": "stream",
     "text": [
      "We just added Larry Page to our database\n",
      "This SSN doesn't exist in our data base\n"
     ]
    },
    {
     "name": "stdin",
     "output_type": "stream",
     "text": [
      "Enter Employees name\n",
      " Hillary Ranger\n"
     ]
    },
    {
     "name": "stdout",
     "output_type": "stream",
     "text": [
      "We just added Hillary Ranger to our database\n"
     ]
    },
    {
     "data": {
      "text/plain": [
       "{456965079: 'David Smith',\n",
       " 823878356: 'Lisa Miller',\n",
       " 813756744: 'Pat Murphy',\n",
       " 456965080: 'Tom Hanks',\n",
       " 899998998: 'Larry Mills',\n",
       " 8999987898: 'Tina Benson',\n",
       " 1234: 'Indiana Jones',\n",
       " 56: 'Larry Page',\n",
       " 87: 'Hillary Ranger'}"
      ]
     },
     "execution_count": 56,
     "metadata": {},
     "output_type": "execute_result"
    }
   ],
   "source": [
    "newd=[1234, 56, 87]\n",
    "for i in newd:\n",
    "    checkE(i,Employees)\n",
    "Employees"
   ]
  },
  {
   "cell_type": "code",
   "execution_count": 57,
   "metadata": {},
   "outputs": [],
   "source": [
    "#dictionary of dictionarys\n",
    "Employees2 = {456965079: {'name':'David Smith','salary':100000}, \n",
    "             823878356: {'name':'Lisa Miller','salary':120000}\n",
    "            }\n"
   ]
  },
  {
   "cell_type": "code",
   "execution_count": 58,
   "metadata": {},
   "outputs": [
    {
     "data": {
      "text/plain": [
       "2"
      ]
     },
     "execution_count": 58,
     "metadata": {},
     "output_type": "execute_result"
    }
   ],
   "source": [
    "len(Employees2)"
   ]
  },
  {
   "cell_type": "code",
   "execution_count": 59,
   "metadata": {},
   "outputs": [
    {
     "name": "stdout",
     "output_type": "stream",
     "text": [
      "{456965079: {'name': 'David Smith', 'salary': 100000}, 823878356: {'name': 'Lisa Miller', 'salary': 120000}}\n"
     ]
    }
   ],
   "source": [
    "print(Employees2)"
   ]
  },
  {
   "cell_type": "code",
   "execution_count": 60,
   "metadata": {},
   "outputs": [
    {
     "data": {
      "text/plain": [
       "120000"
      ]
     },
     "execution_count": 60,
     "metadata": {},
     "output_type": "execute_result"
    }
   ],
   "source": [
    "#Biggest Salary\n",
    "max(Employees2[823878356]['salary'] ,  Employees2[456965079]['salary'])"
   ]
  },
  {
   "cell_type": "code",
   "execution_count": 61,
   "metadata": {},
   "outputs": [
    {
     "data": {
      "text/plain": [
       "9"
      ]
     },
     "execution_count": 61,
     "metadata": {},
     "output_type": "execute_result"
    }
   ],
   "source": [
    "len(Employees)"
   ]
  },
  {
   "cell_type": "code",
   "execution_count": 62,
   "metadata": {},
   "outputs": [
    {
     "name": "stdout",
     "output_type": "stream",
     "text": [
      "{456965079: 'David Smith', 823878356: 'Lisa Miller', 813756744: 'Pat Murphy', 456965080: 'Tom Hanks', 899998998: 'Larry Mills', 8999987898: 'Tina Benson', 1234: 'Indiana Jones', 56: 'Larry Page', 87: 'Hillary Ranger'}\n"
     ]
    }
   ],
   "source": [
    "print(Employees)"
   ]
  },
  {
   "cell_type": "code",
   "execution_count": null,
   "metadata": {},
   "outputs": [],
   "source": [
    "Employees[813756744]"
   ]
  },
  {
   "cell_type": "code",
   "execution_count": null,
   "metadata": {},
   "outputs": [],
   "source": [
    "Employees[823878356]"
   ]
  },
  {
   "cell_type": "code",
   "execution_count": 63,
   "metadata": {},
   "outputs": [],
   "source": [
    "# Another example\n",
    "inventory = {'apples':430, 'pears':217, 'oranges':525, 'bananas':312}"
   ]
  },
  {
   "cell_type": "code",
   "execution_count": 64,
   "metadata": {},
   "outputs": [
    {
     "name": "stdout",
     "output_type": "stream",
     "text": [
      "{'apples': 430, 'pears': 217, 'oranges': 525, 'bananas': 312}\n"
     ]
    }
   ],
   "source": [
    "print(inventory)"
   ]
  },
  {
   "cell_type": "code",
   "execution_count": 65,
   "metadata": {},
   "outputs": [
    {
     "data": {
      "text/plain": [
       "dict_keys(['apples', 'pears', 'oranges', 'bananas'])"
      ]
     },
     "execution_count": 65,
     "metadata": {},
     "output_type": "execute_result"
    }
   ],
   "source": [
    "inventory.keys()"
   ]
  },
  {
   "cell_type": "code",
   "execution_count": 66,
   "metadata": {},
   "outputs": [
    {
     "data": {
      "text/plain": [
       "dict_values([430, 217, 525, 312])"
      ]
     },
     "execution_count": 66,
     "metadata": {},
     "output_type": "execute_result"
    }
   ],
   "source": [
    "inventory.values()"
   ]
  },
  {
   "cell_type": "code",
   "execution_count": 67,
   "metadata": {},
   "outputs": [
    {
     "data": {
      "text/plain": [
       "dict_items([('apples', 430), ('pears', 217), ('oranges', 525), ('bananas', 312)])"
      ]
     },
     "execution_count": 67,
     "metadata": {},
     "output_type": "execute_result"
    }
   ],
   "source": [
    "inventory.items()"
   ]
  },
  {
   "cell_type": "code",
   "execution_count": 68,
   "metadata": {},
   "outputs": [
    {
     "data": {
      "text/plain": [
       "0"
      ]
     },
     "execution_count": 68,
     "metadata": {},
     "output_type": "execute_result"
    }
   ],
   "source": [
    "inventory.get('grape',0)"
   ]
  },
  {
   "cell_type": "code",
   "execution_count": null,
   "metadata": {},
   "outputs": [],
   "source": [
    "inventory.get('apples',0) + inventory.get('grapes',0)"
   ]
  },
  {
   "cell_type": "code",
   "execution_count": null,
   "metadata": {},
   "outputs": [],
   "source": [
    "for akey in inventory.keys(): \n",
    "      print(\"Got key\", akey, \"which maps to value\", inventory[akey])"
   ]
  },
  {
   "cell_type": "code",
   "execution_count": null,
   "metadata": {},
   "outputs": [],
   "source": [
    "print(inventory['bananas'])"
   ]
  },
  {
   "cell_type": "code",
   "execution_count": null,
   "metadata": {},
   "outputs": [],
   "source": []
  },
  {
   "cell_type": "code",
   "execution_count": null,
   "metadata": {},
   "outputs": [],
   "source": [
    "inventory['pears'] + 300"
   ]
  },
  {
   "cell_type": "code",
   "execution_count": null,
   "metadata": {},
   "outputs": [],
   "source": [
    "print (inventory)\n",
    "inventory['bananas']= inventory['bananas']  + 200"
   ]
  },
  {
   "cell_type": "code",
   "execution_count": null,
   "metadata": {},
   "outputs": [],
   "source": [
    "inventory = {'apples':430, 'pears':217, 'oranges':525, 'bananas':312}\n",
    "print (inventory)\n",
    "\n",
    "inventory['bananas'] += 200\n",
    "print (inventory)\n"
   ]
  },
  {
   "cell_type": "code",
   "execution_count": null,
   "metadata": {},
   "outputs": [],
   "source": [
    "print (inventory)"
   ]
  },
  {
   "cell_type": "markdown",
   "metadata": {},
   "source": [
    "### Mergeing Dictionaries\n"
   ]
  },
  {
   "cell_type": "code",
   "execution_count": null,
   "metadata": {},
   "outputs": [],
   "source": [
    "# Mergeing Dictionaries with **\n",
    "inventory1 = {'apples': 430, 'bananas': 312}\n",
    "inventory2=  {'oranges': 525, 'pears': 217}\n",
    "inventory  =  {**inventory1, **inventory2}\n",
    "print(inventory)\n"
   ]
  },
  {
   "cell_type": "code",
   "execution_count": null,
   "metadata": {},
   "outputs": [],
   "source": [
    "# Mergeing Dictionaries with **\n",
    "inventory1 = {'apples': 430, 'bananas': 312}\n",
    "inventory2=  {'oranges': 525, 'pears': 217}\n",
    "inventory  =   inventory1 | inventory2\n",
    "print(inventory)"
   ]
  },
  {
   "cell_type": "code",
   "execution_count": null,
   "metadata": {},
   "outputs": [],
   "source": [
    "test1={}"
   ]
  },
  {
   "cell_type": "code",
   "execution_count": null,
   "metadata": {},
   "outputs": [],
   "source": [
    "test1['a']=input(\"Enter Age\\n\")"
   ]
  },
  {
   "cell_type": "code",
   "execution_count": null,
   "metadata": {},
   "outputs": [],
   "source": [
    "print(test1)"
   ]
  },
  {
   "cell_type": "code",
   "execution_count": null,
   "metadata": {},
   "outputs": [],
   "source": [
    "# Mergeing Dictionaries with update method\n",
    "inventory1 = {'apples': 430, 'bananas': 312}\n",
    "inventory2=  {'oranges': 525, 'pears': 217}\n",
    "inventory  =  {}\n",
    "inventory.update(inventory1)\n",
    "print(inventory)\n",
    "inventory.update(inventory2)\n",
    "\n",
    "print(inventory)"
   ]
  },
  {
   "cell_type": "markdown",
   "metadata": {},
   "source": [
    "### Iterating through dictionaries or dictionary transversal"
   ]
  },
  {
   "cell_type": "code",
   "execution_count": null,
   "metadata": {},
   "outputs": [],
   "source": [
    "for item in inventory:\n",
    "    print (item)"
   ]
  },
  {
   "cell_type": "code",
   "execution_count": null,
   "metadata": {},
   "outputs": [],
   "source": [
    "for item in inventory.keys():\n",
    "    print (item)"
   ]
  },
  {
   "cell_type": "code",
   "execution_count": null,
   "metadata": {},
   "outputs": [],
   "source": [
    "for item in inventory.values():\n",
    "    print (item)"
   ]
  },
  {
   "cell_type": "code",
   "execution_count": null,
   "metadata": {},
   "outputs": [],
   "source": [
    "for item in inventory.items():\n",
    "    print (item)"
   ]
  },
  {
   "cell_type": "code",
   "execution_count": null,
   "metadata": {},
   "outputs": [],
   "source": [
    "for item in inventory.items():\n",
    "    key,value = item\n",
    "    print (value)"
   ]
  },
  {
   "cell_type": "code",
   "execution_count": null,
   "metadata": {},
   "outputs": [],
   "source": [
    "for item in inventory.items():\n",
    "    key,value = item\n",
    "    print (value, \"of value at this key\",key)"
   ]
  },
  {
   "cell_type": "code",
   "execution_count": null,
   "metadata": {},
   "outputs": [],
   "source": [
    "for key,value in inventory.items():\n",
    "    print (value, \"of value at this key\",key)"
   ]
  },
  {
   "cell_type": "markdown",
   "metadata": {},
   "source": [
    "### Dictionary Comprehension"
   ]
  },
  {
   "cell_type": "code",
   "execution_count": null,
   "metadata": {},
   "outputs": [],
   "source": [
    "#remember list comprehension\n",
    "squares=[i**2 for i in [1,2,3]]\n",
    "\n",
    "print(squares)"
   ]
  },
  {
   "cell_type": "code",
   "execution_count": null,
   "metadata": {},
   "outputs": [],
   "source": [
    "# dictionary version\n",
    "xyz = {'x': 1, 'y': 2, 'z': 3}\n",
    "# Square each value in the dictionary\n",
    "square_xyz = {i:j**2 for (i,j) in xyz.items()}\n",
    "print(square_xyz)"
   ]
  },
  {
   "cell_type": "code",
   "execution_count": null,
   "metadata": {},
   "outputs": [],
   "source": [
    "# dictionary version\n",
    "xyz = {'x': 1, 'y': 2, 'z': 3}\n",
    "# Square each value in the dictionary\n",
    "square_xyz = {\"squared_\"+i:j**2 for (i,j) in xyz.items()}\n",
    "print(square_xyz)"
   ]
  },
  {
   "cell_type": "code",
   "execution_count": null,
   "metadata": {},
   "outputs": [],
   "source": [
    "temperatures = [88, 94,102, 99, 101,98,95,100]\n",
    "# print convert temperatures \n",
    "\n",
    "[(t-32) * 5/9 for t  in temperatures]"
   ]
  },
  {
   "cell_type": "code",
   "execution_count": null,
   "metadata": {},
   "outputs": [],
   "source": [
    "temperatures ={\"t1\":88, \"t2\":94,\"t3\":102,\"t4\":99, \n",
    "               \"t5\":101,\"t6\": 98,\"t7\":95,\"t8\":100}\n",
    "# print convert temperatures \n",
    "\n",
    "{i:(j - 32) * 5/9   for (i,j) in temperatures.items()}"
   ]
  },
  {
   "cell_type": "code",
   "execution_count": null,
   "metadata": {},
   "outputs": [],
   "source": [
    "if 456965079 in Employees:\n",
    "    print(Employees[456965079])\n",
    "else:\n",
    "    print(\"This SSN doesn't exist in our data base\")\n"
   ]
  },
  {
   "cell_type": "code",
   "execution_count": null,
   "metadata": {},
   "outputs": [],
   "source": [
    "# Dictionaries are mutable objects so you should expect the same behavior we learned with lists.\n",
    "\n",
    "opposites = {'up': 'down', 'right': 'wrong', 'true': 'false'}\n",
    "alias = opposites\n",
    "print(alias is opposites)\n",
    "alias['right'] = 'left'\n",
    "print(opposites['right'])\n"
   ]
  },
  {
   "cell_type": "code",
   "execution_count": null,
   "metadata": {},
   "outputs": [],
   "source": [
    "print(alias is opposites)"
   ]
  },
  {
   "cell_type": "code",
   "execution_count": null,
   "metadata": {},
   "outputs": [],
   "source": [
    "#If you really want to create a copy of the dictionary use the dictionary copy method:\n",
    "\n",
    "opposites = {'up': 'down', 'right': 'wrong', 'true': 'false'}\n",
    "acopy = opposites.copy()\n",
    "print(acopy is opposites)\n",
    "acopy['right'] = 'left'\n",
    "print(opposites['right'])\n"
   ]
  },
  {
   "cell_type": "code",
   "execution_count": null,
   "metadata": {},
   "outputs": [],
   "source": [
    "acopy is opposites"
   ]
  },
  {
   "cell_type": "markdown",
   "metadata": {},
   "source": [
    "## Sparse Matrices"
   ]
  },
  {
   "cell_type": "code",
   "execution_count": null,
   "metadata": {},
   "outputs": [],
   "source": [
    "matrix =[[0,0,0,1,0],\n",
    "         [0,0,0,0,0],\n",
    "         [0,2,0,0,0],\n",
    "         [0,0,0,0,0],\n",
    "         [0,0,0,3,0]]"
   ]
  },
  {
   "cell_type": "code",
   "execution_count": null,
   "metadata": {},
   "outputs": [],
   "source": [
    "print (matrix)"
   ]
  },
  {
   "cell_type": "code",
   "execution_count": null,
   "metadata": {},
   "outputs": [],
   "source": [
    "matrix2 = {(0, 3): 1, (2, 1): 2, (4, 3): 3}"
   ]
  },
  {
   "cell_type": "code",
   "execution_count": null,
   "metadata": {},
   "outputs": [],
   "source": [
    "matrix2"
   ]
  },
  {
   "cell_type": "code",
   "execution_count": null,
   "metadata": {},
   "outputs": [],
   "source": [
    "print (matrix2[0,3])"
   ]
  },
  {
   "cell_type": "code",
   "execution_count": null,
   "metadata": {},
   "outputs": [],
   "source": [
    "print (matrix2.get((2,1),0))"
   ]
  },
  {
   "cell_type": "code",
   "execution_count": null,
   "metadata": {},
   "outputs": [],
   "source": [
    "print(matrix2.get((9, 3), \"entry does not exist\"))"
   ]
  },
  {
   "cell_type": "code",
   "execution_count": 1,
   "metadata": {},
   "outputs": [],
   "source": [
    "engineers = {'John', 'Jane', 'Jack', 'Janice'}\n",
    "programmers = {'Jack', 'Sam', 'Susan', 'Janice'}\n",
    "managers =   {'Jane', 'Jack', 'Susan', 'Zack'}\n"
   ]
  },
  {
   "cell_type": "code",
   "execution_count": 3,
   "metadata": {},
   "outputs": [
    {
     "data": {
      "text/plain": [
       "set"
      ]
     },
     "execution_count": 3,
     "metadata": {},
     "output_type": "execute_result"
    }
   ],
   "source": [
    "type(engineers)"
   ]
  },
  {
   "cell_type": "code",
   "execution_count": 4,
   "metadata": {},
   "outputs": [
    {
     "data": {
      "text/plain": [
       "{'Jack', 'Janice'}"
      ]
     },
     "execution_count": 4,
     "metadata": {},
     "output_type": "execute_result"
    }
   ],
   "source": [
    "engineers & programmers"
   ]
  },
  {
   "cell_type": "code",
   "execution_count": 5,
   "metadata": {},
   "outputs": [
    {
     "data": {
      "text/plain": [
       "{'Jack', 'Susan'}"
      ]
     },
     "execution_count": 5,
     "metadata": {},
     "output_type": "execute_result"
    }
   ],
   "source": [
    "programmers & managers"
   ]
  },
  {
   "cell_type": "code",
   "execution_count": 6,
   "metadata": {},
   "outputs": [
    {
     "data": {
      "text/plain": [
       "{'Zack'}"
      ]
     },
     "execution_count": 6,
     "metadata": {},
     "output_type": "execute_result"
    }
   ],
   "source": [
    "managers - programmers - engineers"
   ]
  },
  {
   "cell_type": "code",
   "execution_count": 7,
   "metadata": {},
   "outputs": [
    {
     "data": {
      "text/plain": [
       "{'Jack', 'Jane', 'Janice', 'John', 'Sam', 'Susan', 'Zack'}"
      ]
     },
     "execution_count": 7,
     "metadata": {},
     "output_type": "execute_result"
    }
   ],
   "source": [
    "employees= engineers | programmers | managers\n",
    "employees"
   ]
  },
  {
   "cell_type": "code",
   "execution_count": 8,
   "metadata": {},
   "outputs": [
    {
     "data": {
      "text/plain": [
       "{'Jack', 'Jane', 'Janice', 'John', 'Sam', 'Susan', 'Zack'}"
      ]
     },
     "execution_count": 8,
     "metadata": {},
     "output_type": "execute_result"
    }
   ],
   "source": [
    "employees.add(\"Jane\")\n",
    "employees"
   ]
  },
  {
   "cell_type": "code",
   "execution_count": 9,
   "metadata": {},
   "outputs": [
    {
     "data": {
      "text/plain": [
       "{'Jack', 'Jane', 'Janice', 'John', 'Sam', 'Susan', 'Tom', 'Zack'}"
      ]
     },
     "execution_count": 9,
     "metadata": {},
     "output_type": "execute_result"
    }
   ],
   "source": [
    "employees.add(\"Tom\")\n",
    "employees"
   ]
  },
  {
   "cell_type": "code",
   "execution_count": 12,
   "metadata": {},
   "outputs": [],
   "source": [
    "employees.remove(\"Tom\")"
   ]
  },
  {
   "cell_type": "code",
   "execution_count": 13,
   "metadata": {},
   "outputs": [
    {
     "data": {
      "text/plain": [
       "{'Jack', 'Jane', 'Janice', 'John', 'Sam', 'Susan', 'Zack'}"
      ]
     },
     "execution_count": 13,
     "metadata": {},
     "output_type": "execute_result"
    }
   ],
   "source": [
    "employees"
   ]
  },
  {
   "cell_type": "code",
   "execution_count": 14,
   "metadata": {},
   "outputs": [],
   "source": [
    "engineers.add(\"Marvin\")"
   ]
  },
  {
   "cell_type": "code",
   "execution_count": 15,
   "metadata": {},
   "outputs": [
    {
     "data": {
      "text/plain": [
       "{'Jack', 'Jane', 'Janice', 'John', 'Marvin'}"
      ]
     },
     "execution_count": 15,
     "metadata": {},
     "output_type": "execute_result"
    }
   ],
   "source": [
    "engineers"
   ]
  },
  {
   "cell_type": "code",
   "execution_count": 16,
   "metadata": {},
   "outputs": [
    {
     "data": {
      "text/plain": [
       "True"
      ]
     },
     "execution_count": 16,
     "metadata": {},
     "output_type": "execute_result"
    }
   ],
   "source": [
    "programmers.issubset(employees)"
   ]
  },
  {
   "cell_type": "code",
   "execution_count": 17,
   "metadata": {},
   "outputs": [
    {
     "data": {
      "text/plain": [
       "True"
      ]
     },
     "execution_count": 17,
     "metadata": {},
     "output_type": "execute_result"
    }
   ],
   "source": [
    "employees.issuperset(programmers)"
   ]
  },
  {
   "cell_type": "code",
   "execution_count": 18,
   "metadata": {},
   "outputs": [
    {
     "data": {
      "text/plain": [
       "False"
      ]
     },
     "execution_count": 18,
     "metadata": {},
     "output_type": "execute_result"
    }
   ],
   "source": [
    "employees.issuperset(engineers)"
   ]
  },
  {
   "cell_type": "code",
   "execution_count": 19,
   "metadata": {},
   "outputs": [],
   "source": [
    "employees.update(engineers)"
   ]
  },
  {
   "cell_type": "code",
   "execution_count": 20,
   "metadata": {},
   "outputs": [
    {
     "data": {
      "text/plain": [
       "{'Jack', 'Jane', 'Janice', 'John', 'Marvin', 'Sam', 'Susan', 'Zack'}"
      ]
     },
     "execution_count": 20,
     "metadata": {},
     "output_type": "execute_result"
    }
   ],
   "source": [
    "employees\n"
   ]
  },
  {
   "cell_type": "code",
   "execution_count": 21,
   "metadata": {},
   "outputs": [
    {
     "data": {
      "text/plain": [
       "True"
      ]
     },
     "execution_count": 21,
     "metadata": {},
     "output_type": "execute_result"
    }
   ],
   "source": [
    "employees.issuperset(engineers)"
   ]
  },
  {
   "cell_type": "code",
   "execution_count": null,
   "metadata": {},
   "outputs": [],
   "source": [
    "a=set()"
   ]
  },
  {
   "cell_type": "code",
   "execution_count": 25,
   "metadata": {},
   "outputs": [],
   "source": [
    "a=list()"
   ]
  },
  {
   "cell_type": "code",
   "execution_count": 31,
   "metadata": {},
   "outputs": [
    {
     "name": "stdout",
     "output_type": "stream",
     "text": [
      "[97, 98, 99, 100, 101, 102, 103, 104, 105, 106, 107, 108, 97, 98, 99, 100, 101, 102, 103, 104, 105, 106, 107, 108, 97, 98, 99, 100, 101, 102, 103, 104, 105, 106, 107, 108, 97, 98, 99, 100, 101, 102, 103, 104, 105, 106, 107, 108, 97, 98, 99, 100, 101, 102, 103, 104, 105, 106, 107, 108]\n"
     ]
    }
   ],
   "source": [
    "\n",
    "for i in range(97,109):\n",
    "    a.append(i)\n",
    "print (a)"
   ]
  },
  {
   "cell_type": "code",
   "execution_count": 33,
   "metadata": {},
   "outputs": [],
   "source": [
    "a1= set (a)"
   ]
  },
  {
   "cell_type": "code",
   "execution_count": 34,
   "metadata": {},
   "outputs": [
    {
     "data": {
      "text/plain": [
       "{97, 98, 99, 100, 101, 102, 103, 104, 105, 106, 107, 108}"
      ]
     },
     "execution_count": 34,
     "metadata": {},
     "output_type": "execute_result"
    }
   ],
   "source": [
    "a1"
   ]
  },
  {
   "cell_type": "code",
   "execution_count": null,
   "metadata": {},
   "outputs": [],
   "source": []
  }
 ],
 "metadata": {
  "kernelspec": {
   "display_name": "Python 3.7",
   "language": "python",
   "name": "python3.7"
  },
  "language_info": {
   "codemirror_mode": {
    "name": "ipython",
    "version": 3
   },
   "file_extension": ".py",
   "mimetype": "text/x-python",
   "name": "python",
   "nbconvert_exporter": "python",
   "pygments_lexer": "ipython3",
   "version": "3.7.6"
  }
 },
 "nbformat": 4,
 "nbformat_minor": 4
}
