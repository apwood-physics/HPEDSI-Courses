{
 "cells": [
  {
   "cell_type": "markdown",
   "metadata": {},
   "source": [
    "#### Finding Palindromes\n",
    "\n",
    "Write a python program  that takes a string from the command line and identifies and prints if it is a palindrome or not. \n",
    "\n",
    "(A palindrome is a string that is identical when read forward or backward E.g. racecar, abba)\n",
    "\n",
    "Requirements: \n",
    "\n",
    "(1) Your programme should capture the string data from the command line \n",
    "\n",
    "(2) Your programme should use python exception  (i.e.)  to validate that the user of the programme provides the \n",
    "\n",
    "correct arguements at the command line\n",
    "\n",
    "Hint: You can  use negative indices in For or While loop. See the example use cases below.\n",
    "\n",
    "```\n",
    "python  is_palindrome.py     abba\n",
    "True\n",
    "\n",
    "python is_palindrome.py cat\n",
    "False\n",
    "\n",
    "python  is_palindrome.py\n",
    "Please provide a string additional command line arguement\n",
    "```"
   ]
  },
  {
   "cell_type": "code",
   "execution_count": 1,
   "metadata": {
    "tags": []
   },
   "outputs": [
    {
     "name": "stdout",
     "output_type": "stream",
     "text": [
      "Overwriting is_palindrome.py\n"
     ]
    }
   ],
   "source": [
    "%%writefile is_palindrome.py\n",
    "\n",
    "import sys\n",
    "\n",
    "\n",
    "def is_palindrome():\n",
    "    try:\n",
    "        word = sys.argv[1]\n",
    "        print(word == word[::-1])\n",
    "    except IndexError:\n",
    "        print(\"Please provide a string argument.\")\n",
    "\n",
    "\n",
    "if __name__ == \"__main__\":\n",
    "    is_palindrome()"
   ]
  },
  {
   "cell_type": "code",
   "execution_count": 2,
   "metadata": {
    "tags": []
   },
   "outputs": [
    {
     "name": "stdout",
     "output_type": "stream",
     "text": [
      "True\n"
     ]
    }
   ],
   "source": [
    "!python is_palindrome.py     abba"
   ]
  },
  {
   "cell_type": "code",
   "execution_count": 3,
   "metadata": {
    "tags": []
   },
   "outputs": [
    {
     "name": "stdout",
     "output_type": "stream",
     "text": [
      "False\n"
     ]
    }
   ],
   "source": [
    "!python is_palindrome.py     cat"
   ]
  },
  {
   "cell_type": "code",
   "execution_count": 4,
   "metadata": {
    "tags": []
   },
   "outputs": [
    {
     "name": "stdout",
     "output_type": "stream",
     "text": [
      "Please provide a string argument.\n"
     ]
    }
   ],
   "source": [
    "!python is_palindrome.py"
   ]
  },
  {
   "cell_type": "code",
   "execution_count": null,
   "metadata": {},
   "outputs": [],
   "source": []
  }
 ],
 "metadata": {
  "kernelspec": {
   "display_name": "Python 3 (ipykernel)",
   "language": "python",
   "name": "python3"
  },
  "language_info": {
   "codemirror_mode": {
    "name": "ipython",
    "version": 3
   },
   "file_extension": ".py",
   "mimetype": "text/x-python",
   "name": "python",
   "nbconvert_exporter": "python",
   "pygments_lexer": "ipython3",
   "version": "3.10.9"
  }
 },
 "nbformat": 4,
 "nbformat_minor": 4
}
