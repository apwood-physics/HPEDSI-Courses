{
 "cells": [
  {
   "cell_type": "markdown",
   "metadata": {},
   "source": [
    "# Part A\n",
    "#### Execute each cell. Address the question raised in each cell by  typing in your Answer repeat until you get it correctly.<br> <br>Note you are comparing your assumptions and solutions to how python acutually solves the problem."
   ]
  },
  {
   "cell_type": "code",
   "execution_count": 4,
   "metadata": {},
   "outputs": [
    {
     "name": "stdin",
     "output_type": "stream",
     "text": [
      "What is the value of 10/4 ?\n",
      " 2.5\n"
     ]
    },
    {
     "name": "stdout",
     "output_type": "stream",
     "text": [
      "2.5\n",
      "You are Correct\n"
     ]
    }
   ],
   "source": [
    "my_answer = eval(input(f\"What is the value of 10/4 ?\\n\"))\n",
    "\n",
    "print(my_answer)\n",
    "\n",
    "if my_answer == 10 / 4:\n",
    "    print(\"You are Correct\")\n",
    "else:\n",
    "    print(\"Wrong Answer, Try Again\")"
   ]
  },
  {
   "cell_type": "code",
   "execution_count": 3,
   "metadata": {},
   "outputs": [
    {
     "name": "stdin",
     "output_type": "stream",
     "text": [
      "What is the value of 10//4 ?\n",
      " 2\n"
     ]
    },
    {
     "name": "stdout",
     "output_type": "stream",
     "text": [
      "2\n",
      "You are Correct\n"
     ]
    }
   ],
   "source": [
    "my_answer = eval(input(f\"What is the value of 10//4 ?\\n\"))\n",
    "\n",
    "print(my_answer)\n",
    "\n",
    "if my_answer == 10 // 4:\n",
    "    print(\"You are Correct\")\n",
    "else:\n",
    "    print(\"Wrong Answer, Try Again\")"
   ]
  },
  {
   "cell_type": "code",
   "execution_count": 5,
   "metadata": {},
   "outputs": [
    {
     "name": "stdin",
     "output_type": "stream",
     "text": [
      "What is the value of float(10//4) ?\n",
      " 2.0\n"
     ]
    },
    {
     "name": "stdout",
     "output_type": "stream",
     "text": [
      "2.0\n",
      "You are Correct\n"
     ]
    }
   ],
   "source": [
    "my_answer = eval(input(f\"What is the value of float(10//4) ?\\n\"))\n",
    "\n",
    "print(my_answer)\n",
    "\n",
    "if my_answer == float(10 // 4) and isinstance(my_answer, float):\n",
    "    print(\"You are Correct\")\n",
    "else:\n",
    "    print(\"Wrong Answer, Try Again\")"
   ]
  },
  {
   "cell_type": "code",
   "execution_count": 6,
   "metadata": {},
   "outputs": [
    {
     "name": "stdin",
     "output_type": "stream",
     "text": [
      "What is the value of 2.0 + 10//3 ?\n",
      " 5.0\n"
     ]
    },
    {
     "name": "stdout",
     "output_type": "stream",
     "text": [
      "5.0\n",
      "You are Correct\n"
     ]
    }
   ],
   "source": [
    "my_answer = eval(input(f\"What is the value of 2.0 + 10//3 ?\\n\"))\n",
    "\n",
    "print(my_answer)\n",
    "\n",
    "if my_answer == 2.0 + 10 // 3 and isinstance(my_answer, float):\n",
    "    print(\"You are Correct\")\n",
    "else:\n",
    "    print(\"Wrong Answer, Try Again\")"
   ]
  },
  {
   "cell_type": "code",
   "execution_count": 8,
   "metadata": {},
   "outputs": [
    {
     "name": "stdin",
     "output_type": "stream",
     "text": [
      "What is the value of int(10/4) ?\n",
      " 2\n"
     ]
    },
    {
     "name": "stdout",
     "output_type": "stream",
     "text": [
      "2\n",
      "You are Correct\n"
     ]
    }
   ],
   "source": [
    "my_answer = eval(input(f\"What is the value of int(10/4) ?\\n\"))\n",
    "\n",
    "print(my_answer)\n",
    "\n",
    "if my_answer == int(10 / 4) and isinstance(my_answer, int):\n",
    "    print(\"You are Correct\")\n",
    "else:\n",
    "    print(\"Wrong Answer, Try Again\")"
   ]
  },
  {
   "cell_type": "code",
   "execution_count": 10,
   "metadata": {},
   "outputs": [
    {
     "name": "stdin",
     "output_type": "stream",
     "text": [
      "What is the value of int(4.3) ?\n",
      " 4\n"
     ]
    },
    {
     "name": "stdout",
     "output_type": "stream",
     "text": [
      "4\n",
      "You are Correct\n"
     ]
    }
   ],
   "source": [
    "my_answer = eval(input(f\"What is the value of int(4.3) ?\\n\"))\n",
    "\n",
    "print(my_answer)\n",
    "\n",
    "if my_answer == int(4.3) and isinstance(my_answer, int):\n",
    "    print(\"You are Correct\")\n",
    "else:\n",
    "    print(\"Wrong Answer, Try Again\")"
   ]
  },
  {
   "cell_type": "code",
   "execution_count": 11,
   "metadata": {},
   "outputs": [
    {
     "name": "stdin",
     "output_type": "stream",
     "text": [
      "What is the value of 10.0/4.0 ?\n",
      " 2.5\n"
     ]
    },
    {
     "name": "stdout",
     "output_type": "stream",
     "text": [
      "2.5\n",
      "You are Correct\n"
     ]
    }
   ],
   "source": [
    "my_answer = eval(input(f\"What is the value of 10.0/4.0 ?\\n\"))\n",
    "\n",
    "print(my_answer)\n",
    "\n",
    "if my_answer == 10.0 / 4.0 and isinstance(my_answer, float):\n",
    "    print(\"You are Correct\")\n",
    "else:\n",
    "    print(\"Wrong Answer, Try Again\")"
   ]
  },
  {
   "cell_type": "code",
   "execution_count": 12,
   "metadata": {},
   "outputs": [
    {
     "name": "stdin",
     "output_type": "stream",
     "text": [
      "What is the value of 10 % 4 ?\n",
      " 2\n"
     ]
    },
    {
     "name": "stdout",
     "output_type": "stream",
     "text": [
      "2\n",
      "You are Correct\n"
     ]
    }
   ],
   "source": [
    "my_answer = eval(input(f\"What is the value of 10 % 4 ?\\n\"))\n",
    "\n",
    "print(my_answer)\n",
    "\n",
    "if my_answer == 10 % 4 and isinstance(my_answer, int):\n",
    "    print(\"You are Correct\")\n",
    "else:\n",
    "    print(\"Wrong Answer, Try Again\")"
   ]
  },
  {
   "cell_type": "code",
   "execution_count": 14,
   "metadata": {},
   "outputs": [
    {
     "name": "stdin",
     "output_type": "stream",
     "text": [
      "What is the value of 2 % 10 ?\n",
      " 2\n"
     ]
    },
    {
     "name": "stdout",
     "output_type": "stream",
     "text": [
      "2\n",
      "You are Correct\n"
     ]
    }
   ],
   "source": [
    "my_answer = eval(input(f\"What is the value of 2 % 10 ?\\n\"))\n",
    "\n",
    "print(my_answer)\n",
    "\n",
    "if my_answer == 2 % 10 and isinstance(my_answer, int):\n",
    "    print(\"You are Correct\")\n",
    "else:\n",
    "    print(\"Wrong Answer, Try Again\")"
   ]
  },
  {
   "cell_type": "code",
   "execution_count": 17,
   "metadata": {},
   "outputs": [
    {
     "name": "stdin",
     "output_type": "stream",
     "text": [
      "What is the value of 9**3 ?\n",
      " 729\n"
     ]
    },
    {
     "name": "stdout",
     "output_type": "stream",
     "text": [
      "729\n",
      "You are Correct\n"
     ]
    }
   ],
   "source": [
    "my_answer = eval(input(f\"What is the value of 9**3 ?\\n\"))\n",
    "\n",
    "print(my_answer)\n",
    "\n",
    "if my_answer == 9**3 and isinstance(my_answer, int):\n",
    "    print(\"You are Correct\")\n",
    "else:\n",
    "    print(\"Wrong Answer, Try Again\")"
   ]
  },
  {
   "cell_type": "code",
   "execution_count": 18,
   "metadata": {},
   "outputs": [
    {
     "name": "stdin",
     "output_type": "stream",
     "text": [
      "What is the value of 9 ** .5 ?\n",
      " 3.0\n"
     ]
    },
    {
     "name": "stdout",
     "output_type": "stream",
     "text": [
      "3.0\n",
      "You are Correct\n"
     ]
    }
   ],
   "source": [
    "my_answer = eval(input(f\"What is the value of 9 ** .5 ?\\n\"))\n",
    "\n",
    "print(my_answer)\n",
    "\n",
    "if my_answer == 9**0.5 and isinstance(my_answer, float):\n",
    "    print(\"You are Correct\")\n",
    "else:\n",
    "    print(\"Wrong Answer, Try Again\")"
   ]
  },
  {
   "cell_type": "code",
   "execution_count": 20,
   "metadata": {},
   "outputs": [
    {
     "name": "stdin",
     "output_type": "stream",
     "text": [
      "What is the value of 3 ** 2 ** 0 ?\n",
      " 3\n"
     ]
    },
    {
     "name": "stdout",
     "output_type": "stream",
     "text": [
      "3\n",
      "You are Correct\n"
     ]
    }
   ],
   "source": [
    "my_answer = eval(input(f\"What is the value of 3 ** 2 ** 0 ?\\n\"))\n",
    "\n",
    "print(my_answer)\n",
    "\n",
    "if my_answer == 3**2**0 and isinstance(my_answer, int):\n",
    "    print(\"You are Correct\")\n",
    "else:\n",
    "    print(\"Wrong Answer, Try Again\")"
   ]
  },
  {
   "cell_type": "code",
   "execution_count": 21,
   "metadata": {},
   "outputs": [
    {
     "name": "stdin",
     "output_type": "stream",
     "text": [
      "What is the value of 2 ** 0 ** 3 ?\n",
      " 1\n"
     ]
    },
    {
     "name": "stdout",
     "output_type": "stream",
     "text": [
      "1\n",
      "You are Correct\n"
     ]
    }
   ],
   "source": [
    "my_answer = eval(input(f\"What is the value of 2 ** 0 ** 3 ?\\n\"))\n",
    "\n",
    "print(my_answer)\n",
    "\n",
    "if my_answer == 2**0**3 and isinstance(my_answer, int):\n",
    "    print(\"You are Correct\")\n",
    "else:\n",
    "    print(\"Wrong Answer, Try Again\")"
   ]
  },
  {
   "cell_type": "code",
   "execution_count": 22,
   "metadata": {},
   "outputs": [
    {
     "name": "stdin",
     "output_type": "stream",
     "text": [
      "What is the value of 3.0 + 10 ?\n",
      " 13.0\n"
     ]
    },
    {
     "name": "stdout",
     "output_type": "stream",
     "text": [
      "13.0\n",
      "You are Correct\n"
     ]
    }
   ],
   "source": [
    "my_answer = eval(input(f\"What is the value of 3.0 + 10 ?\\n\"))\n",
    "\n",
    "print(my_answer)\n",
    "\n",
    "if my_answer == 3.0 + 10 and isinstance(my_answer, float):\n",
    "    print(\"You are Correct\")\n",
    "else:\n",
    "    print(\"Wrong Answer, Try Again\")"
   ]
  },
  {
   "cell_type": "code",
   "execution_count": 26,
   "metadata": {},
   "outputs": [
    {
     "name": "stdin",
     "output_type": "stream",
     "text": [
      "What is the value of 4+2**8/4 ?\n",
      " 68.0\n"
     ]
    },
    {
     "name": "stdout",
     "output_type": "stream",
     "text": [
      "68.0\n",
      "You are Correct\n"
     ]
    }
   ],
   "source": [
    "my_answer = eval(input(f\"What is the value of 4+2**8/4 ?\\n\"))\n",
    "\n",
    "print(my_answer)\n",
    "\n",
    "if my_answer == 4 + 2**8 / 4 and isinstance(my_answer, float):\n",
    "    print(\"You are Correct\")\n",
    "else:\n",
    "    print(\"Wrong Answer, Try Again\")"
   ]
  },
  {
   "cell_type": "markdown",
   "metadata": {},
   "source": [
    "# Part B\n",
    "######  In the problems below replace pass with python statement(s) that solves the problem"
   ]
  },
  {
   "cell_type": "markdown",
   "metadata": {},
   "source": [
    "#### 1. Write a single Python statement that will print the following message to the screen:  I’m super excited about computer science"
   ]
  },
  {
   "cell_type": "code",
   "execution_count": 27,
   "metadata": {},
   "outputs": [
    {
     "name": "stdout",
     "output_type": "stream",
     "text": [
      "I'm super excited about computer science\n"
     ]
    }
   ],
   "source": [
    "def my_message():\n",
    "    print(\"I'm super excited about computer science\")\n",
    "\n",
    "\n",
    "my_message()"
   ]
  },
  {
   "cell_type": "markdown",
   "metadata": {},
   "source": [
    "#### 2. Complete the function that creates a variable called day and assign the value Wednesday. What is the data type for that variable?"
   ]
  },
  {
   "cell_type": "code",
   "execution_count": 29,
   "metadata": {},
   "outputs": [
    {
     "name": "stdout",
     "output_type": "stream",
     "text": [
      "the variable day='Wednesday' is a <class 'str'>\n"
     ]
    }
   ],
   "source": [
    "def my_type():\n",
    "    day = \"Wednesday\"\n",
    "    print(f\"the variable {day=} is a {type(day)}\")\n",
    "\n",
    "\n",
    "my_type()"
   ]
  },
  {
   "cell_type": "markdown",
   "metadata": {},
   "source": [
    "#### 3. Request the user to type his/her first name and assign it to a variable called first_name. Then request the user to type his/her last name and store in variable last_name. Then print the following message (in a single line): Hi <first name> <last name>, how’s it going?"
   ]
  },
  {
   "cell_type": "code",
   "execution_count": 39,
   "metadata": {},
   "outputs": [
    {
     "name": "stdin",
     "output_type": "stream",
     "text": [
      "Please enter your first name:\n",
      " Anthony\n",
      "Please enter your last name:\n",
      " Wood\n"
     ]
    },
    {
     "name": "stdout",
     "output_type": "stream",
     "text": [
      "Hi, Anthony Wood, how's it going?\n"
     ]
    }
   ],
   "source": [
    "def my_message2():\n",
    "    first_name = input(\"Please enter your first name:\\n\")\n",
    "    last_name = input(\"Please enter your last name:\\n\")\n",
    "    print(f\"Hi, {first_name} {last_name}, how's it going?\")\n",
    "\n",
    "\n",
    "my_message2()"
   ]
  },
  {
   "cell_type": "markdown",
   "metadata": {},
   "source": [
    "##### 4. Request the user for their birth year and compute his/her age. Send a message to the screen with the age.\n",
    " "
   ]
  },
  {
   "cell_type": "code",
   "execution_count": 40,
   "metadata": {},
   "outputs": [
    {
     "name": "stdin",
     "output_type": "stream",
     "text": [
      "What year were you born?\n",
      " 1993\n"
     ]
    },
    {
     "name": "stdout",
     "output_type": "stream",
     "text": [
      "You are 30 years old.\n"
     ]
    }
   ],
   "source": [
    "def my_message3():\n",
    "    birth_year = int(input(\"What year were you born?\\n\"))\n",
    "    print(f\"You are {2023 - birth_year} years old.\")\n",
    "\n",
    "\n",
    "my_message3()"
   ]
  },
  {
   "cell_type": "markdown",
   "metadata": {},
   "source": [
    "#### 5. Calculate the time it will take a runner to run a 10 miler with the following pace segments: the first mile at a pace of 8.5 minutes per mile, the following 4 miles at a pace of 8.15 minutes per mile, the following 4 miles at a pace of 8.10 and the last mile back at a relaxed pace of 8.5 minutes per mile.  "
   ]
  },
  {
   "cell_type": "code",
   "execution_count": 38,
   "metadata": {},
   "outputs": [
    {
     "name": "stdout",
     "output_type": "stream",
     "text": [
      "You ran 10 miles in 82.0 minutes.\n"
     ]
    }
   ],
   "source": [
    "def my_total_miles():\n",
    "    total_miles = 1 + 4 + 4 + 1\n",
    "    total_time = 1 * 8.5 + 4 * 8.15 + 4 * 8.10 + 1 * 8.5\n",
    "    print(f\"You ran {total_miles} miles in {total_time} minutes.\")\n",
    "\n",
    "\n",
    "my_total_miles()"
   ]
  },
  {
   "cell_type": "code",
   "execution_count": null,
   "metadata": {},
   "outputs": [],
   "source": []
  }
 ],
 "metadata": {
  "kernelspec": {
   "display_name": "Python 3 (ipykernel)",
   "language": "python",
   "name": "python3"
  },
  "language_info": {
   "codemirror_mode": {
    "name": "ipython",
    "version": 3
   },
   "file_extension": ".py",
   "mimetype": "text/x-python",
   "name": "python",
   "nbconvert_exporter": "python",
   "pygments_lexer": "ipython3",
   "version": "3.10.9"
  }
 },
 "nbformat": 4,
 "nbformat_minor": 4
}
