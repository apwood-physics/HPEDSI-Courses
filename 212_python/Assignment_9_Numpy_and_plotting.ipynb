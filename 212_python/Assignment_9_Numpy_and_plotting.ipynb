{
 "cells": [
  {
   "cell_type": "markdown",
   "metadata": {},
   "source": [
    "#### Write a python program or function that does:\n",
    "1. loads the stockholm temperature dataset via appropiate numpy functions\n",
    "\n",
    "2. generate numpy array of the morning temperatures in Fahrenheit temperature scale. Note temperature was initially in Celsius scale.\n",
    "\n",
    "3. generate a series plot of the morning temperature in Fahrenheit vs time. Label the title, legend and axes accordingly.\n",
    "\n",
    "4. generate a histrogram of the morning temperature in Fahrenheit to reflect the temperature distribution. Label the title, legend and axes accordingly.\n",
    "\n",
    "    \n",
    "    "
   ]
  },
  {
   "cell_type": "code",
   "execution_count": null,
   "metadata": {},
   "outputs": [],
   "source": []
  }
 ],
 "metadata": {
  "kernelspec": {
   "display_name": "Python3.8",
   "language": "python",
   "name": "python3.8"
  },
  "language_info": {
   "codemirror_mode": {
    "name": "ipython",
    "version": 3
   },
   "file_extension": ".py",
   "mimetype": "text/x-python",
   "name": "python",
   "nbconvert_exporter": "python",
   "pygments_lexer": "ipython3",
   "version": "3.8.5"
  }
 },
 "nbformat": 4,
 "nbformat_minor": 2
}
