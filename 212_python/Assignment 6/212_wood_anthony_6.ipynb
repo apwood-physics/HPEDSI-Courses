{
 "cells": [
  {
   "cell_type": "markdown",
   "metadata": {},
   "source": [
    "## Assigment 7: Split the check-Part II loops and dictionary\n",
    "#### OBJECTIVE\n",
    "\n",
    "You will practice how to read numerical and text data from the command line, do simple arithmetic computations, and to output results to the terminal, but this time using python dictionary to store the data.\n",
    "\n",
    "THE PROBLEM\n",
    "\n",
    "You have been in a fancy restaurant with four of your best friends. All the individual bills are brought to the table and it is time to add the tip and to compute everyone’s share. Since nobody ordered anything extravagantly expensive, you decide that everyone will pay an equal share of the bill.\n",
    "\n",
    " \n",
    "\n",
    "The number of friends variable `number_of_friends` is already provided for you as function parameter and initialized with a default value of 5. Inside your program, you have to declare 1 (ONE) new variable called `record`: which is simply  a dictionary of storing both names  and  bills for each attendee. Assume the group has five or more people.  Request names of the attendees and bills for each person and store each of them in the corresponding dictionary variable  `record`. Hint w.r.t. to `record` dictionary, for each entry the `key` will be the name of the attendee and the `value` is the bill for that attendee.  Print out both the name and  bill for each attendee. Next, ask for input for the tip percentage and compute and print the total bill. Last, print out the amount each attendee must pay.\n",
    "\n",
    "\n",
    "\n",
    "You  must  use the number_of_friends variable in defining the number of iterations for your  loop (either for or while loop)   and the size or length of your dictinary must match the value of number_of_friends.   All variables must be declared except (number_of_friends)  and used.  You will get a ZERO if you do  not comply with the instructions.\n",
    "\n",
    "\n",
    "\n",
    "\n",
    "\n",
    "Your program should start by a documentation string that includes your name, the program name, the Course number, the semester and a short description of the program, as in:\n",
    "\n",
    " \n",
    "\n",
    "\"\"\"  Tanvir Rahman, Peoplesoft ID: 111111\n",
    "\n",
    "     Program #1: Sharing the bill\n",
    "\n",
    "     This program computes individual shares of a restaurant bill. \"\"\"\n",
    "\n",
    " \n",
    "Note that the text above starts and ends with three double quotes.\n",
    "\n",
    "HINTS\n",
    "\n",
    "1. The easiest way to output numbers with two decimals is to use the f-strings to insert them into a\n",
    "\n",
    "string:\n",
    "\n",
    "print(f\"The result is  {result:.2f }\")\n",
    "\n",
    " \n",
    "\n",
    "Output: The following example demonstrates the expected output from running your program.\n",
    "Note that these names and bills must be entered by the user from the keyboard and not hardcoded in your program.\n",
    "\n",
    "Enter name of friend: David<br>\n",
    "Enter bill for David: 25.2\n",
    "\n",
    "Enter name of friend: John<br>\n",
    "Enter bill for John: 22.99\n",
    "\n",
    "Enter name of friend: Jane<br>\n",
    "Enter bill for Jane: 23.5\n",
    "\n",
    "Enter name of friend: Smith<br>\n",
    "Enter bill for Smith: 24.0\n",
    "\n",
    "Enter name of friend: Ali<br>\n",
    "Enter bill for Ali: 24.8<br><br>\n",
    "\n",
    " \n",
    "\n",
    "Names of Friends: David, John, Jane, Smith, Ali<br>\n",
    "\n",
    "Individual bills: 25.2, 22.99, 23.5, 24.0, 24.8<br>\n",
    "\n",
    "<p>\n",
    "Enter tip percentage: 20 <br><br>\n",
    "Total bill plus tip: $ 144.59\n",
    "</p>\n",
    "\n",
    "<br> Each of us must pay $ 28.92<br>\n",
    "\n",
    " \n",
    "\n",
    " \n",
    "\n",
    "<br>What to submit:  your source code properly documented in a .ipynb file named according to the instructions: FirstName_LastName_assignmentNumber.ipynb\n",
    "\n",
    " \n",
    "\n",
    "How to submit: Please submit homework in moodle Login into moodle with you UH credentials look up the assignment and submit your work.\n",
    "\n",
    " \n",
    "\n",
    "Recommendations: Your source code must run without syntax errors in order to receive a passing grade for this assignment. Make sure you add comments in your source code that describe what the program is supposed to do. Before submitting your code, make sure you test it with different input values to ensure it works correctly."
   ]
  },
  {
   "cell_type": "code",
   "execution_count": 4,
   "metadata": {
    "tags": []
   },
   "outputs": [
    {
     "name": "stdin",
     "output_type": "stream",
     "text": [
      "\n",
      "Enter name of friend: David\n",
      "\n",
      "Enter name of friend: John\n",
      "\n",
      "Enter name of friend: Jane\n",
      "\n",
      "Enter name of friend: Smith\n",
      "\n",
      "Enter name of friend: Ali\n",
      "\n",
      "Enter bill for David: 25.2\n",
      "\n",
      "Enter bill for John: 22.99\n",
      "\n",
      "Enter bill for Jane: 23.5\n",
      "\n",
      "Enter bill for Smith: 24.0\n",
      "\n",
      "Enter bill for Ali: 24.8\n"
     ]
    },
    {
     "name": "stdout",
     "output_type": "stream",
     "text": [
      "\n",
      "Names of friends: David, John, Jane, Smith, Ali \n",
      "\n",
      "Indvidual bills: 25.2, 22.99, 23.5, 24.0, 24.8 \n",
      "\n"
     ]
    },
    {
     "name": "stdin",
     "output_type": "stream",
     "text": [
      "Enter tip percentage: 20\n"
     ]
    },
    {
     "name": "stdout",
     "output_type": "stream",
     "text": [
      "\n",
      "Total bill plus tip: $144.59\n",
      "\n",
      "Each of us must pay $28.92\n"
     ]
    }
   ],
   "source": [
    "# Replace pass with body of statement to complete the homework\n",
    "def split_the_check(number_of_friends=5):\n",
    "    \"\"\"Anthony Wood, Peoplesoft ID: 1168636\n",
    "\n",
    "    Program #1: Sharing the bill\n",
    "\n",
    "    This program computes individual shares of a restaurant bill.\"\"\"\n",
    "\n",
    "    names = [input(\"\\nEnter name of friend:\") for _ in range(number_of_friends)]\n",
    "\n",
    "    record = {name: input(f\"\\nEnter bill for {name}:\") for name in names}\n",
    "\n",
    "    print(\"\\nNames of friends:\", \", \".join(record), \"\\n\")\n",
    "    print(\"Indvidual bills:\", \", \".join(record.values()), \"\\n\")\n",
    "\n",
    "    tip_percent = float(input(\"Enter tip percentage:\"))\n",
    "\n",
    "    total_bill = (1 + tip_percent / 100) * sum(map(float, record.values()))\n",
    "    split_check = total_bill / number_of_friends\n",
    "\n",
    "    print(f\"\\nTotal bill plus tip: ${total_bill:.2f}\")\n",
    "    print(f\"\\nEach of us must pay ${split_check:.2f}\")\n",
    "\n",
    "\n",
    "split_the_check(5)"
   ]
  },
  {
   "cell_type": "code",
   "execution_count": null,
   "metadata": {},
   "outputs": [],
   "source": []
  },
  {
   "cell_type": "code",
   "execution_count": null,
   "metadata": {},
   "outputs": [],
   "source": []
  }
 ],
 "metadata": {
  "kernelspec": {
   "display_name": "Python 3 (ipykernel)",
   "language": "python",
   "name": "python3"
  },
  "language_info": {
   "codemirror_mode": {
    "name": "ipython",
    "version": 3
   },
   "file_extension": ".py",
   "mimetype": "text/x-python",
   "name": "python",
   "nbconvert_exporter": "python",
   "pygments_lexer": "ipython3",
   "version": "3.10.9"
  }
 },
 "nbformat": 4,
 "nbformat_minor": 4
}
