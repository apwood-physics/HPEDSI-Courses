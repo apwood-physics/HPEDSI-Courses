{
 "cells": [
  {
   "cell_type": "markdown",
   "metadata": {},
   "source": [
    "Numpy, Scipy, Plotting, Sympy etc in Python\n",
    "================================="
   ]
  },
  {
   "cell_type": "markdown",
   "metadata": {},
   "source": [
    "Numpy\n",
    "===\n",
    "NumPy is the fundamental Python package for scientific computing. It adds the capabilities\n",
    "of N-dimensional arrays, element-by-element operations (broadcasting), core\n",
    "mathematical operations like linear algebra, and the ability to wrap C/C++/Fortran\n",
    "code."
   ]
  },
  {
   "cell_type": "markdown",
   "metadata": {},
   "source": [
    "Numpy arrays\n",
    "===\n",
    "####  Python objects\n",
    "* high-level number objects: integers, floating point\n",
    "* containers: lists (costless insertion and append), dictionaries (fast lookup)\n",
    "#### Numpy provides\n",
    "* extension package to Python for multi-dimensional arrays\n",
    "* closer to hardware (efficiency)\n",
    "* designed for scientific computation (convenience)\n",
    "* Also known as array oriented computing"
   ]
  },
  {
   "cell_type": "code",
   "execution_count": 1,
   "metadata": {},
   "outputs": [
    {
     "data": {
      "text/plain": [
       "array([0, 1, 2, 3])"
      ]
     },
     "execution_count": 1,
     "metadata": {},
     "output_type": "execute_result"
    }
   ],
   "source": [
    "import numpy as np\n",
    "a = np.array([0, 1, 2, 3])\n",
    "a"
   ]
  },
  {
   "cell_type": "markdown",
   "metadata": {},
   "source": [
    "Need for speed\n",
    "===\n",
    "Compared to traditional lists, numpy ndarray wins hands down when it comes to operation times, as the operations are sped up significantly.\n",
    "Numpy arrays vs List\n",
    "---"
   ]
  },
  {
   "cell_type": "code",
   "execution_count": 2,
   "metadata": {},
   "outputs": [
    {
     "name": "stdout",
     "output_type": "stream",
     "text": [
      "2.46 µs ± 8.36 ns per loop (mean ± std. dev. of 7 runs, 100000 loops each)\n",
      "323 µs ± 310 ns per loop (mean ± std. dev. of 7 runs, 1000 loops each)\n"
     ]
    }
   ],
   "source": [
    "import numpy as np\n",
    "# Create an array with 10^6 elements.\n",
    "arr = np.arange(1e3)\n",
    " \n",
    "L = range( int (1e3))\n",
    " \n",
    "# Using IPython's magic timeit command\n",
    "\n",
    "%timeit arr**2\n",
    "\n",
    "%timeit [i**2 for i in L]\n"
   ]
  },
  {
   "cell_type": "markdown",
   "metadata": {},
   "source": [
    "Creating arrays with Numpy\n",
    "==="
   ]
  },
  {
   "cell_type": "markdown",
   "metadata": {},
   "source": [
    "##### 1-D or   one dimension array from prior list"
   ]
  },
  {
   "cell_type": "code",
   "execution_count": 3,
   "metadata": {},
   "outputs": [
    {
     "name": "stdout",
     "output_type": "stream",
     "text": [
      "My array is: \n",
      " [0 1 2 3]\n",
      "\n",
      "Shape is:  (4,)\n",
      "\n",
      "# of dimensions is: 1\n",
      "\n",
      "My element data type is:  int64\n"
     ]
    }
   ],
   "source": [
    "import numpy as np\n",
    "a = np.array([0, 1, 2, 3]) #   from existing lists\n",
    "print (\"My array is: \\n\", a)\n",
    "print (\"\\nShape is: \",a.shape) # shape of the array\n",
    "print (\"\\n# of dimensions is:\", a.ndim)  # number of dimensions\n",
    " \n",
    "print (\"\\nMy element data type is: \",a.dtype) # Retrieve the data type\n",
    "\n",
    "# The default data type is floating point\n",
    "       "
   ]
  },
  {
   "cell_type": "markdown",
   "metadata": {},
   "source": [
    "##### 2-D   dimension array from prior list(s)"
   ]
  },
  {
   "cell_type": "code",
   "execution_count": 4,
   "metadata": {},
   "outputs": [
    {
     "name": "stdout",
     "output_type": "stream",
     "text": [
      "My array is: \n",
      " [[0 1 2 3]\n",
      " [0 1 2 2]\n",
      " [1 3 5 4]]\n",
      "\n",
      "Shape is:  (3, 4)\n",
      "\n",
      "# of dimensions is: 2\n",
      "\n",
      "My element data type is:  int64\n"
     ]
    }
   ],
   "source": [
    "import numpy as np\n",
    "a = np.array([[0, 1, 2, 3],[0,1,2,2], [1,3,5,4 ] ]) #   from existing lists\n",
    "print (\"My array is: \\n\", a)\n",
    "print (\"\\nShape is: \",a.shape) # shape of the array\n",
    "print (\"\\n# of dimensions is:\", a.ndim)  # number of dimensions\n",
    " \n",
    "print (\"\\nMy element data type is: \",a.dtype) # Retrieve the data type\n",
    "\n",
    "# The default data type is floating point"
   ]
  },
  {
   "cell_type": "markdown",
   "metadata": {},
   "source": [
    "### Using predefined range\n",
    "###### 1-D or   one dimension array within a range"
   ]
  },
  {
   "cell_type": "code",
   "execution_count": 5,
   "metadata": {},
   "outputs": [
    {
     "name": "stdout",
     "output_type": "stream",
     "text": [
      "My array is: \n",
      " [0 1 2 3 4 5 6 7 8 9]\n",
      "\n",
      "Shape is:  (10,)\n",
      "\n",
      "# of dimensions is: 1\n",
      "\n",
      "My element data type is:  int64\n"
     ]
    }
   ],
   "source": [
    "a=np.arange(10)  # within a range\n",
    "print (\"My array is: \\n\", a)\n",
    "print (\"\\nShape is: \",a.shape) # shape of the array\n",
    "print (\"\\n# of dimensions is:\", a.ndim)  # number of dimensions\n",
    " \n",
    "print (\"\\nMy element data type is: \",a.dtype) # Retrieve the data type\n",
    "\n",
    "# The default data type is floating point"
   ]
  },
  {
   "cell_type": "code",
   "execution_count": 6,
   "metadata": {},
   "outputs": [
    {
     "name": "stdout",
     "output_type": "stream",
     "text": [
      "[-10.          -7.77777778  -5.55555556  -3.33333333  -1.11111111\n",
      "   1.11111111   3.33333333   5.55555556   7.77777778  10.        ]\n"
     ]
    }
   ],
   "source": [
    "# evenly spaced points \n",
    "x = np.linspace(-10, 10, 10)\n",
    "print (x)"
   ]
  },
  {
   "cell_type": "code",
   "execution_count": 42,
   "metadata": {},
   "outputs": [
    {
     "name": "stdout",
     "output_type": "stream",
     "text": [
      "x vs cos(x)\n",
      " [0.         0.11111111 0.22222222 0.33333333 0.44444444 0.55555556\n",
      " 0.66666667 0.77777778 0.88888889 1.        ] [1.         0.99383351 0.97541009 0.94495695 0.90284967 0.84960756\n",
      " 0.78588726 0.71247462 0.63027505 0.54030231]\n"
     ]
    }
   ],
   "source": [
    "a=0\n",
    "b=1\n",
    "x = np.linspace(a, b, 10)\n",
    "print (\"x vs cos(x)\\n\",x, np.cos(x))\n",
    " "
   ]
  },
  {
   "cell_type": "code",
   "execution_count": 35,
   "metadata": {},
   "outputs": [],
   "source": [
    "np.column_stack((x,np.cos(x)))"
   ]
  },
  {
   "cell_type": "code",
   "execution_count": 44,
   "metadata": {},
   "outputs": [
    {
     "name": "stdout",
     "output_type": "stream",
     "text": [
      "x vs cos(x)\n",
      " [[0.         1.        ]\n",
      " [0.11111111 0.99383351]\n",
      " [0.22222222 0.97541009]\n",
      " [0.33333333 0.94495695]\n",
      " [0.44444444 0.90284967]\n",
      " [0.55555556 0.84960756]\n",
      " [0.66666667 0.78588726]\n",
      " [0.77777778 0.71247462]\n",
      " [0.88888889 0.63027505]\n",
      " [1.         0.54030231]]\n"
     ]
    }
   ],
   "source": [
    "print (\"x vs cos(x)\\n\", np.column_stack((x,np.cos(x))))"
   ]
  },
  {
   "cell_type": "markdown",
   "metadata": {},
   "source": [
    "Exercise: Simple arrays\n",
    "====\n",
    "Create a simple two dimensional array. First, redo the examples from above. And then create your own: how about odd numbers counting backwards on the first row, and even numbers on the second?\n",
    "Use the functions len(), numpy.shape() on these arrays. How do they relate to each other? And to the ndim attribute of the arrays?"
   ]
  },
  {
   "cell_type": "code",
   "execution_count": null,
   "metadata": {},
   "outputs": [],
   "source": []
  },
  {
   "cell_type": "code",
   "execution_count": null,
   "metadata": {},
   "outputs": [],
   "source": []
  },
  {
   "cell_type": "code",
   "execution_count": null,
   "metadata": {},
   "outputs": [],
   "source": []
  },
  {
   "cell_type": "markdown",
   "metadata": {},
   "source": [
    "Functions for creating arrays\n",
    "===="
   ]
  },
  {
   "cell_type": "code",
   "execution_count": null,
   "metadata": {},
   "outputs": [],
   "source": [
    "#In practice, we rarely enter items one by one…\n",
    "# Evenly spaced:\n",
    "\n",
    "a = np.arange(4)\n",
    "print (a)"
   ]
  },
  {
   "cell_type": "code",
   "execution_count": null,
   "metadata": {},
   "outputs": [],
   "source": [
    "# or by number of points:\n",
    "\n",
    "c = np.linspace(0, 1, 6)   # start, end, num-points\n",
    "print (\"c\\n\", c)\n",
    "\n",
    "d = np.linspace(0, 1, 5, endpoint=False)\n",
    "print (\"\\nd\\n\", d)\n"
   ]
  },
  {
   "cell_type": "code",
   "execution_count": null,
   "metadata": {},
   "outputs": [],
   "source": [
    "np.ones((9, 3, 3))"
   ]
  },
  {
   "cell_type": "code",
   "execution_count": null,
   "metadata": {},
   "outputs": [],
   "source": [
    "# Common arrays:\n",
    "a = np.ones((3, 3))  # reminder: (3, 3) is a tuple\n",
    "print (\"a \\n\", a)\n",
    "\n",
    "b = np.zeros((2, 2))\n",
    "print (\"\\nb\\n\", b)\n",
    "\n",
    "c = np.eye(3)\n",
    "print (\"\\nc\\n\", c)\n",
    "\n",
    "d = np.diag(np.array([1, 2, 3, 4]))\n",
    "print (\"\\nd\\n\", d)\n"
   ]
  },
  {
   "cell_type": "code",
   "execution_count": null,
   "metadata": {},
   "outputs": [],
   "source": [
    "# np.random: random numbers (Mersenne Twister PRNG):\n",
    "\n",
    "\n",
    "a = np.random.rand(20)       # uniform in [0, 1]\n",
    "print (\"a \\n\", a)\n",
    "  \n",
    "\n",
    "\n",
    "b = np.random.randn(20)      # Gaussian\n",
    "print (\"b \\n\",b)\n",
    "\n",
    "\n",
    "np.random.seed(1234)        # Setting the random seed"
   ]
  },
  {
   "cell_type": "markdown",
   "metadata": {},
   "source": [
    "Exercise: Creating arrays using functions\n",
    "====\n",
    "* Experiment with arange, linspace, ones, zeros, eye and diag.\n",
    "* Create different kinds of arrays with random numbers.\n",
    "* Try setting the seed before creating an array with random values.\n",
    "* Look at the function np.empty. What does it do? When might this be useful?"
   ]
  },
  {
   "cell_type": "markdown",
   "metadata": {},
   "source": [
    "<h2>Fast vector Math with Numpy</h2>\n",
    "Numpy works very fast arrays of numbers (vector)"
   ]
  },
  {
   "cell_type": "code",
   "execution_count": null,
   "metadata": {},
   "outputs": [],
   "source": [
    "import numpy as np\n",
    "\n",
    "a = np.array([1.0, 4.0, 9.0, 16.0])\n",
    "print(np.sqrt(a))\n",
    "\n",
    "print(np.sin(a))\n",
    "\n",
    "\n",
    "print( np.sin(a) * np.sin(a) )\n"
   ]
  },
  {
   "cell_type": "markdown",
   "metadata": {},
   "source": [
    "<h2>Matrix Algebra with Numpy</h2>\n",
    " \n",
    "Numpy Module\n",
    "Numpy arrays can be manipulated by numerous functions contained in the module. The size of an array is immutable, and no empty elements are allowed.\n",
    "\n",
    "The numpy module is not a part of the standard Python release. It must be installed separately (the installation is very easy). "
   ]
  },
  {
   "cell_type": "code",
   "execution_count": null,
   "metadata": {},
   "outputs": [],
   "source": [
    " \n",
    "A = np.array([[4,-2,1],[-2,4,-2],[1,-2,3]],float)\n",
    "b = np.array([1,4,3],float)\n",
    "print(np.diagonal(A)) # Principal diagonal\n",
    "\n",
    "print(np.diagonal(A,1)) # First subdiagonal\n",
    "\n",
    "print(np.trace(A)) # Sum of diagonal elements\n",
    "\n",
    "print(np.argmax(b)) # Index of largest element\n",
    "\n",
    "print(np.argmin(A,axis=0)) # Indices of smallest col. elements\n",
    "\n",
    "print(np.identity(3)) # Identity matrix"
   ]
  },
  {
   "cell_type": "code",
   "execution_count": null,
   "metadata": {},
   "outputs": [],
   "source": [
    "x = np.array([7,3])\n",
    "y = np.array([2,1])\n",
    "A = np.array([[1,2],[3,2]])\n",
    "B = np.array([[1,1],[2,2]])\n",
    "# Dot product\n",
    "print(\"dot(x,y) =\\n\",np.dot(x,y)) # {x}.{y}\n",
    "print(\"dot(A,x) =\\n\",np.dot(A,x)) # [A]{x}\n",
    "print(\"dot(A,B) =\\n\",np.dot(A,B)) # [A][B]\n",
    "# Inner product\n",
    "print(\"inner(x,y) =\\n\",np.inner(x,y)) # {x}.{y}\n",
    "print(\"inner(A,x) =\\n\",np.inner(A,x)) # [A]{x}\n",
    "print(\"inner(A,B) =\\n\",np.inner(A,B)) # [A][B_transpose]\n",
    "# Outer product\n",
    "print(\"outer(x,y) =\\n\",np.outer(x,y))\n",
    "print(\"outer(A,x) =\\n\",np.outer(A,x))\n",
    "print(\"outer(A,B) =\\n\",np.outer(A,B))"
   ]
  },
  {
   "cell_type": "markdown",
   "metadata": {},
   "source": [
    "### Create Matrix from lists"
   ]
  },
  {
   "cell_type": "code",
   "execution_count": null,
   "metadata": {},
   "outputs": [],
   "source": [
    "import numpy as np\n",
    "m=3\n",
    "n=3\n",
    "\n",
    "C1= [x*.01 for x in range(1,10)]\n",
    "print (\"C1 = \", C1)\n",
    "C1=np.array(C1)\n",
    "C1=np.reshape(C1, (n,m))\n",
    "\n",
    "print (\"\\nHere is a matrix cast of C1\\n\", np.matrix(C1)) \n",
    " "
   ]
  },
  {
   "cell_type": "code",
   "execution_count": null,
   "metadata": {},
   "outputs": [],
   "source": [
    "C1*C1"
   ]
  },
  {
   "cell_type": "code",
   "execution_count": null,
   "metadata": {},
   "outputs": [],
   "source": [
    "np.dot(C1,C1)"
   ]
  },
  {
   "cell_type": "code",
   "execution_count": null,
   "metadata": {},
   "outputs": [],
   "source": [
    "np.matrix(C1)* np.matrix(C1)"
   ]
  },
  {
   "cell_type": "markdown",
   "metadata": {},
   "source": [
    "Linear Algebra Module\n",
    "---\n",
    "The SciPy and Numpy module comes with a linear algebra module called linalg that contains\n",
    "routine tasks such as matrix inversion and solution of simultaneous equations. For\n",
    "example,\n",
    "Solve Ax=b  \n",
    "---"
   ]
  },
  {
   "cell_type": "code",
   "execution_count": null,
   "metadata": {},
   "outputs": [],
   "source": [
    "import numpy as np\n",
    " \n",
    "A = np.array([[ 4.0, -2.0, 1.0], \\\n",
    "[-2.0, 4.0, -2.0], \\\n",
    "[ 1.0, -2.0, 3.0]]) \n",
    " \n",
    "b=np.array([1.0, 4.0, 2.0])\n",
    "\n",
    "\"\"\" Solve Ax=b\"\"\"\n",
    "x = np.linalg.solve(A,b)\n",
    "print ('X =', x)\n",
    "print ('Check b =A*x \\n',np.dot(A,x))\n",
    "       \n",
    "print (np.dot(A,x) == b)\n",
    "\n",
    " "
   ]
  },
  {
   "cell_type": "markdown",
   "metadata": {},
   "source": [
    "## Advanced solvers\n",
    "Numpy's linalg module comes with a basic solver. Other advanced solvers such as Choleski Factorization, SVD, Eigen, etc  are available in scipy's linalg\n",
    " \n"
   ]
  },
  {
   "cell_type": "code",
   "execution_count": 45,
   "metadata": {},
   "outputs": [
    {
     "name": "stdout",
     "output_type": "stream",
     "text": [
      "(array([[ 2.        , -1.        ,  0.5       ],\n",
      "       [-2.        ,  1.73205081, -0.8660254 ],\n",
      "       [ 1.        , -2.        ,  1.41421356]]), False)\n",
      "X = [1.  2.5 2. ]\n",
      "Check b=A*x\n",
      " [1. 4. 2.]\n"
     ]
    }
   ],
   "source": [
    "\n",
    "A = np.array([[ 4.0, -2.0, 1.0], \\\n",
    "[-2.0, 4.0, -2.0], \\\n",
    "[ 1.0, -2.0, 3.0]]) \n",
    " \n",
    "b=np.array([1.0, 4.0, 2.0])\n",
    "\n",
    "\"\"\" Solve Ax=b\"\"\"\n",
    "import scipy as sp \n",
    "from scipy import linalg\n",
    "factors= linalg.cho_factor(A)\n",
    "print (factors)\n",
    "\n",
    "#help(linalg.cho_factor)\n",
    "#help(linalg.cho_solve)\n",
    "x = sp.linalg.cho_solve(factors,b)\n",
    "print ('X =', x)\n",
    "print ('Check b=A*x\\n', np.dot(A,x))"
   ]
  },
  {
   "cell_type": "markdown",
   "metadata": {},
   "source": [
    "## Scipy\n",
    "SciPy is a set of open source (BSD licensed) scientific and numerical tools for Python. It currently supports special functions, integration, ordinary differential equation (ODE) solvers, gradient optimization, parallel programming tools, an expression-to-C++ compiler for fast execution, and others. A good rule of thumb is that if it’s covered in a general textbook on numerical computing (for example, the well-known Numerical Recipes series), it’s probably implemented in SciPy."
   ]
  },
  {
   "cell_type": "code",
   "execution_count": 54,
   "metadata": {},
   "outputs": [],
   "source": [
    "A=np.random.ranf((7,7))\n",
    "import scipy as sp\n",
    "sp.linalg.solve?"
   ]
  },
  {
   "cell_type": "markdown",
   "metadata": {},
   "source": [
    "# Plotting\n",
    "## Plotting  with Matplotlib Module\n",
    "The easiest way to get started with plotting using matplotlib is often to use the MATLAB-like API provided by matplotlib. \n",
    "\n",
    "It is designed to be compatible with MATLAB's plotting functions, so it is easy to get started with if you are familiar with MATLAB.\n",
    "\n",
    "To use this API from matplotlib, we need to include the symbols in the `pylab` module:"
   ]
  },
  {
   "cell_type": "code",
   "execution_count": null,
   "metadata": {},
   "outputs": [],
   "source": [
    "\n",
    "import matplotlib.pyplot as plt\n",
    "%matplotlib inline"
   ]
  },
  {
   "cell_type": "code",
   "execution_count": null,
   "metadata": {},
   "outputs": [],
   "source": [
    "x = np.linspace(0, 5, 10)\n",
    "y = x ** 2\n",
    "print(x)\n",
    "print(y)"
   ]
  },
  {
   "cell_type": "code",
   "execution_count": null,
   "metadata": {},
   "outputs": [],
   "source": [
    "plt.close()\n",
    "plt.figure()\n",
    "plt.plot(x, y, 'r', x, np.sin(x), 'g')\n",
    "plt.xlabel('x')\n",
    "plt.ylabel('y')\n",
    "plt.title('title')\n",
    "\n",
    "plt.savefig('testplot.png')\n",
    "plt.show()"
   ]
  },
  {
   "cell_type": "code",
   "execution_count": null,
   "metadata": {},
   "outputs": [],
   "source": [
    "#plotting functions\n",
    "x = np.arange(0.0,6.2,0.2); \n",
    "print (x)\n",
    "plt.plot(x,np.sin(x),'o-',x,np.cos(x),'^-') # Plot with specified\n",
    "plt.xlabel('x') # Add label to x-axis\n",
    "plt.legend(('sine','cosine'),loc = 0) # Add legend in loc. 3\n",
    "plt.grid(True) # Add coordinate grid\n",
    "plt.savefig('testplot2.png',format='png') # Save plot in png\n",
    "# format for future use\n",
    "plt.show() # Show plot on screen"
   ]
  },
  {
   "cell_type": "code",
   "execution_count": null,
   "metadata": {},
   "outputs": [],
   "source": [
    "#changing the range of view ymax, ymin, xmas,xmin\n",
    "#plotting functions\n",
    "x = np.arange(0.0,6.2,0.2); \n",
    "print (x)\n",
    "plt.plot(x,np.sin(x),'o-',x,np.cos(x),'^-') # Plot with specified\n",
    "plt.ylim(ymin=-2, ymax = 2)\n",
    "plt.xlim( xmax =8, xmin = -2)\n",
    "plt.xlabel('x') # Add label to x-axis\n",
    "plt.legend(('sine','cosine'),loc = 0) # Add legend in loc. 3\n",
    "plt.grid(True) # Add coordinate grid\n",
    "\n",
    "plt.savefig('testplot2.png',format='png') # Save plot in png\n",
    "# format for future use\n",
    "plt.show() # Show plot on screen"
   ]
  },
  {
   "cell_type": "markdown",
   "metadata": {},
   "source": [
    "### Making larger images"
   ]
  },
  {
   "cell_type": "code",
   "execution_count": null,
   "metadata": {},
   "outputs": [],
   "source": [
    "plt.close()\n",
    "SMALL_SIZE = 15\n",
    "MEDIUM_SIZE = 18\n",
    "BIGGER_SIZE = 20\n",
    "\n",
    "plt.rc('font', size=SMALL_SIZE)          # controls default text sizes\n",
    "plt.rc('axes', titlesize=SMALL_SIZE)     # fontsize of the axes title\n",
    "plt.rc('axes', labelsize=MEDIUM_SIZE)    # fontsize of the x and y labels\n",
    "plt.rc('xtick', labelsize=SMALL_SIZE)    # fontsize of the tick labels\n",
    "plt.rc('ytick', labelsize=SMALL_SIZE)    # fontsize of the tick labels\n",
    "plt.rc('legend', fontsize=MEDIUM_SIZE)    # legend fontsize\n",
    "plt.rc('figure', titlesize=BIGGER_SIZE)  # fontsize of the figure title\n",
    "\n",
    "fig = plt.figure()\n",
    "fig.set_size_inches(15.5, 8.5, forward=True)  # Here we specify  for larger images\n",
    "#(18.5, 10.5, forward=True)\n",
    "plt.plot(x,np.sin(x),'o-',x,np.cos(x),'^-') # Plot with specified\n",
    "\n",
    "plt.xlabel('x') # Add label to x-axis\n",
    "plt.legend(('sine','cosine'),loc = 0) # Add legend in loc. 3\n",
    "plt.grid(True) # Add coordinate grid\n",
    "plt.savefig('testplot.png',format='png') # Save plot in png\n",
    "# format for future use\n",
    "plt.show() # Show plot on screen "
   ]
  },
  {
   "cell_type": "markdown",
   "metadata": {},
   "source": [
    "## Bar plots\n",
    "### Syntax\n",
    "#### bar (y, x    )\n"
   ]
  },
  {
   "cell_type": "code",
   "execution_count": null,
   "metadata": {},
   "outputs": [],
   "source": [
    "np.random.seed(30)\n",
    "\n",
    "\n",
    "# Example data  \n",
    "people = ('Tom', 'Dick', 'Harry', 'Slim', 'Jim') # Generate labels\n",
    "y_pos = np.arange(len(people)) \n",
    "\n",
    "# Data array, one for each label\n",
    "performance = 3 + 10 * np.random.rand(len(people))   \n",
    "error = np.random.rand(len(people))\n",
    "print (error, performance)"
   ]
  },
  {
   "cell_type": "code",
   "execution_count": null,
   "metadata": {},
   "outputs": [],
   "source": [
    "\n",
    "\n",
    "plt.rcdefaults()\n",
    "fig, ax = plt.subplots()\n",
    "\n",
    "ax.bar(y_pos, performance, yerr=error, align='center')\n",
    "ax.set_xticks(y_pos)\n",
    "ax.set_xticklabels(people)\n",
    "ax.set_ylabel('Performance')\n",
    "ax.set_title('How fast do you want to go today?')\n",
    "\n",
    "plt.show()"
   ]
  },
  {
   "cell_type": "markdown",
   "metadata": {},
   "source": [
    "### Horizontal Bar Chart\n",
    "#### Syntax\n",
    "##### barh (y, x    )"
   ]
  },
  {
   "cell_type": "code",
   "execution_count": null,
   "metadata": {},
   "outputs": [],
   "source": [
    "plt.rcdefaults()\n",
    "fig, ax = plt.subplots()\n",
    "\n",
    "ax.barh(y_pos, performance, xerr=error, align='center')\n",
    "ax.set_yticks(y_pos)\n",
    "ax.set_yticklabels(people)\n",
    "ax.invert_yaxis()  # labels read top-to-bottom\n",
    "ax.set_xlabel('Performance')\n",
    "ax.set_title('How fast do you want to go today?')\n",
    "\n",
    "plt.show()"
   ]
  },
  {
   "cell_type": "markdown",
   "metadata": {},
   "source": [
    "Exercise\n",
    "===\n",
    "create similar plot for tan function and label the  y axis"
   ]
  },
  {
   "cell_type": "code",
   "execution_count": null,
   "metadata": {},
   "outputs": [],
   "source": []
  },
  {
   "cell_type": "code",
   "execution_count": null,
   "metadata": {},
   "outputs": [],
   "source": []
  },
  {
   "cell_type": "markdown",
   "metadata": {},
   "source": [
    "Plotting with Seaborn\n",
    "===\n",
    "Seaborn is a Python data visualization library based on matplotlib. It provides a high-level interface for drawing attractive and informative statistical graphics."
   ]
  },
  {
   "cell_type": "code",
   "execution_count": 55,
   "metadata": {},
   "outputs": [
    {
     "data": {
      "text/html": [
       "\n",
       "        <iframe\n",
       "            width=\"800\"\n",
       "            height=\"350\"\n",
       "            src=\"https://seaborn.pydata.org\"\n",
       "            frameborder=\"0\"\n",
       "            allowfullscreen\n",
       "        ></iframe>\n",
       "        "
      ],
      "text/plain": [
       "<IPython.lib.display.IFrame at 0x2ab4361b51c0>"
      ]
     },
     "execution_count": 55,
     "metadata": {},
     "output_type": "execute_result"
    }
   ],
   "source": [
    "from IPython.display import IFrame\n",
    "IFrame('https://seaborn.pydata.org', width=800, height=350)"
   ]
  },
  {
   "cell_type": "code",
   "execution_count": 56,
   "metadata": {},
   "outputs": [],
   "source": [
    "import pandas as pd\n",
    "import numpy as np\n",
    "import matplotlib.pyplot as plt\n",
    "import seaborn as sns\n",
    "sns.set() # Set aesthetic parameters in one step.each set of parameters can be set directly or temporarily, see the referenced functions below for more information."
   ]
  },
  {
   "cell_type": "code",
   "execution_count": 57,
   "metadata": {},
   "outputs": [],
   "source": [
    "# We can set the figure size\n",
    "sns.set(rc={'figure.figsize':(6,4)})"
   ]
  },
  {
   "cell_type": "code",
   "execution_count": 58,
   "metadata": {},
   "outputs": [],
   "source": [
    "sns.set(style=\"whitegrid\", font_scale=1.6, rc={'figure.figsize':(11,8),  'axes.grid' : False})"
   ]
  },
  {
   "cell_type": "code",
   "execution_count": 59,
   "metadata": {},
   "outputs": [
    {
     "data": {
      "text/plain": [
       "pandas.core.frame.DataFrame"
      ]
     },
     "execution_count": 59,
     "metadata": {},
     "output_type": "execute_result"
    }
   ],
   "source": [
    "data = sns.load_dataset(\"iris\")\n",
    "type(data)"
   ]
  },
  {
   "cell_type": "code",
   "execution_count": 60,
   "metadata": {},
   "outputs": [
    {
     "data": {
      "text/html": [
       "<div>\n",
       "<style scoped>\n",
       "    .dataframe tbody tr th:only-of-type {\n",
       "        vertical-align: middle;\n",
       "    }\n",
       "\n",
       "    .dataframe tbody tr th {\n",
       "        vertical-align: top;\n",
       "    }\n",
       "\n",
       "    .dataframe thead th {\n",
       "        text-align: right;\n",
       "    }\n",
       "</style>\n",
       "<table border=\"1\" class=\"dataframe\">\n",
       "  <thead>\n",
       "    <tr style=\"text-align: right;\">\n",
       "      <th></th>\n",
       "      <th>sepal_length</th>\n",
       "      <th>sepal_width</th>\n",
       "      <th>petal_length</th>\n",
       "      <th>petal_width</th>\n",
       "      <th>species</th>\n",
       "    </tr>\n",
       "  </thead>\n",
       "  <tbody>\n",
       "    <tr>\n",
       "      <th>0</th>\n",
       "      <td>5.1</td>\n",
       "      <td>3.5</td>\n",
       "      <td>1.4</td>\n",
       "      <td>0.2</td>\n",
       "      <td>setosa</td>\n",
       "    </tr>\n",
       "    <tr>\n",
       "      <th>1</th>\n",
       "      <td>4.9</td>\n",
       "      <td>3.0</td>\n",
       "      <td>1.4</td>\n",
       "      <td>0.2</td>\n",
       "      <td>setosa</td>\n",
       "    </tr>\n",
       "    <tr>\n",
       "      <th>2</th>\n",
       "      <td>4.7</td>\n",
       "      <td>3.2</td>\n",
       "      <td>1.3</td>\n",
       "      <td>0.2</td>\n",
       "      <td>setosa</td>\n",
       "    </tr>\n",
       "    <tr>\n",
       "      <th>3</th>\n",
       "      <td>4.6</td>\n",
       "      <td>3.1</td>\n",
       "      <td>1.5</td>\n",
       "      <td>0.2</td>\n",
       "      <td>setosa</td>\n",
       "    </tr>\n",
       "    <tr>\n",
       "      <th>4</th>\n",
       "      <td>5.0</td>\n",
       "      <td>3.6</td>\n",
       "      <td>1.4</td>\n",
       "      <td>0.2</td>\n",
       "      <td>setosa</td>\n",
       "    </tr>\n",
       "  </tbody>\n",
       "</table>\n",
       "</div>"
      ],
      "text/plain": [
       "   sepal_length  sepal_width  petal_length  petal_width species\n",
       "0           5.1          3.5           1.4          0.2  setosa\n",
       "1           4.9          3.0           1.4          0.2  setosa\n",
       "2           4.7          3.2           1.3          0.2  setosa\n",
       "3           4.6          3.1           1.5          0.2  setosa\n",
       "4           5.0          3.6           1.4          0.2  setosa"
      ]
     },
     "execution_count": 60,
     "metadata": {},
     "output_type": "execute_result"
    }
   ],
   "source": [
    "data.head()"
   ]
  },
  {
   "cell_type": "code",
   "execution_count": 61,
   "metadata": {},
   "outputs": [
    {
     "data": {
      "text/plain": [
       "{'setosa', 'versicolor', 'virginica'}"
      ]
     },
     "execution_count": 61,
     "metadata": {},
     "output_type": "execute_result"
    }
   ],
   "source": [
    "set(data.species) # how many species"
   ]
  },
  {
   "cell_type": "markdown",
   "metadata": {},
   "source": [
    "Plots\n",
    "===\n",
    "\n",
    "\n",
    "#### Line plots offer a way of visualizing the movements of points along the x and y-axes in the form of a line. These plots are useful for performing time series analytics. "
   ]
  },
  {
   "cell_type": "code",
   "execution_count": 62,
   "metadata": {},
   "outputs": [
    {
     "data": {
      "image/png": "[encoded data removed]",
      "text/plain": [
       "<Figure size 792x576 with 1 Axes>"
      ]
     },
     "metadata": {},
     "output_type": "display_data"
    }
   ],
   "source": [
    "sns_plot=sns.lineplot(data=data, x='petal_length', y='petal_width')"
   ]
  },
  {
   "cell_type": "code",
   "execution_count": 63,
   "metadata": {},
   "outputs": [
    {
     "data": {
      "image/png": "[encoded data removed]",
      "text/plain": [
       "<Figure size 792x576 with 1 Axes>"
      ]
     },
     "metadata": {},
     "output_type": "display_data"
    }
   ],
   "source": [
    "#using error bars\n",
    "sns_plot=sns.lineplot(data=data, x='sepal_length', y='sepal_width', err_style=\"bars\") "
   ]
  },
  {
   "cell_type": "code",
   "execution_count": 64,
   "metadata": {},
   "outputs": [
    {
     "data": {
      "image/png": "[encoded data removed]",
      "text/plain": [
       "<Figure size 792x576 with 1 Axes>"
      ]
     },
     "metadata": {},
     "output_type": "display_data"
    }
   ],
   "source": [
    "# No error bars \n",
    "sns_plot=sns.lineplot(data=data, x='sepal_length', y='sepal_width', err_style=None)"
   ]
  },
  {
   "cell_type": "code",
   "execution_count": 65,
   "metadata": {},
   "outputs": [],
   "source": [
    "# save your figures\n",
    "sns_plot.figure.savefig(\"iris.png\") # saving images is contained within the savefig method"
   ]
  },
  {
   "cell_type": "code",
   "execution_count": 66,
   "metadata": {},
   "outputs": [],
   "source": [
    "# plot sepal length  vs petal length\n",
    "\n",
    "# plot petal width  vs petal length"
   ]
  },
  {
   "cell_type": "code",
   "execution_count": null,
   "metadata": {},
   "outputs": [],
   "source": []
  },
  {
   "cell_type": "markdown",
   "metadata": {},
   "source": [
    "##### other plot styles are also available  ( like scatter plots, regression plots, KDE etc )"
   ]
  },
  {
   "cell_type": "code",
   "execution_count": 67,
   "metadata": {},
   "outputs": [],
   "source": [
    "fmri = sns.load_dataset(\"fmri\")"
   ]
  },
  {
   "cell_type": "code",
   "execution_count": 68,
   "metadata": {},
   "outputs": [
    {
     "name": "stdout",
     "output_type": "stream",
     "text": [
      "  subject  timepoint event    region    signal\n",
      "0     s13         18  stim  parietal -0.017552\n",
      "1      s5         14  stim  parietal -0.080883\n",
      "2     s12         18  stim  parietal -0.081033\n",
      "3     s11         18  stim  parietal -0.046134\n",
      "4     s10         18  stim  parietal -0.037970\n",
      "     subject  timepoint event    region    signal\n",
      "1059      s0          8   cue   frontal  0.018165\n",
      "1060     s13          7   cue   frontal -0.029130\n",
      "1061     s12          7   cue   frontal -0.004939\n",
      "1062     s11          7   cue   frontal -0.025367\n",
      "1063      s0          0   cue  parietal -0.006899\n"
     ]
    }
   ],
   "source": [
    "# A quick view of the data\n",
    "print (fmri.head())\n",
    "\n",
    "print  (fmri.tail())"
   ]
  },
  {
   "cell_type": "code",
   "execution_count": 69,
   "metadata": {},
   "outputs": [],
   "source": [
    "# Relationship with sns.relplot?"
   ]
  },
  {
   "cell_type": "code",
   "execution_count": 70,
   "metadata": {},
   "outputs": [
    {
     "data": {
      "image/png": "[encoded data removed]",
      "text/plain": [
       "<Figure size 461.485x360 with 1 Axes>"
      ]
     },
     "metadata": {},
     "output_type": "display_data"
    }
   ],
   "source": [
    "sns.relplot(x=\"timepoint\", y=\"signal\", kind=\"line\", hue='event' ,data=fmri);"
   ]
  },
  {
   "cell_type": "code",
   "execution_count": 71,
   "metadata": {},
   "outputs": [
    {
     "data": {
      "image/png": "[encoded data removed]",
      "text/plain": [
       "<Figure size 490.86x360 with 1 Axes>"
      ]
     },
     "metadata": {},
     "output_type": "display_data"
    }
   ],
   "source": [
    "sns.relplot(x=\"timepoint\", y=\"signal\", kind=\"line\",style='event', hue='region' ,data=fmri);"
   ]
  },
  {
   "cell_type": "code",
   "execution_count": 72,
   "metadata": {},
   "outputs": [],
   "source": [
    "sns.relplot?"
   ]
  },
  {
   "cell_type": "code",
   "execution_count": 73,
   "metadata": {},
   "outputs": [
    {
     "data": {
      "text/html": [
       "<div>\n",
       "<style scoped>\n",
       "    .dataframe tbody tr th:only-of-type {\n",
       "        vertical-align: middle;\n",
       "    }\n",
       "\n",
       "    .dataframe tbody tr th {\n",
       "        vertical-align: top;\n",
       "    }\n",
       "\n",
       "    .dataframe thead th {\n",
       "        text-align: right;\n",
       "    }\n",
       "</style>\n",
       "<table border=\"1\" class=\"dataframe\">\n",
       "  <thead>\n",
       "    <tr style=\"text-align: right;\">\n",
       "      <th></th>\n",
       "      <th>total_bill</th>\n",
       "      <th>tip</th>\n",
       "      <th>sex</th>\n",
       "      <th>smoker</th>\n",
       "      <th>day</th>\n",
       "      <th>time</th>\n",
       "      <th>size</th>\n",
       "    </tr>\n",
       "  </thead>\n",
       "  <tbody>\n",
       "    <tr>\n",
       "      <th>0</th>\n",
       "      <td>16.99</td>\n",
       "      <td>1.01</td>\n",
       "      <td>Female</td>\n",
       "      <td>No</td>\n",
       "      <td>Sun</td>\n",
       "      <td>Dinner</td>\n",
       "      <td>2</td>\n",
       "    </tr>\n",
       "    <tr>\n",
       "      <th>1</th>\n",
       "      <td>10.34</td>\n",
       "      <td>1.66</td>\n",
       "      <td>Male</td>\n",
       "      <td>No</td>\n",
       "      <td>Sun</td>\n",
       "      <td>Dinner</td>\n",
       "      <td>3</td>\n",
       "    </tr>\n",
       "    <tr>\n",
       "      <th>2</th>\n",
       "      <td>21.01</td>\n",
       "      <td>3.50</td>\n",
       "      <td>Male</td>\n",
       "      <td>No</td>\n",
       "      <td>Sun</td>\n",
       "      <td>Dinner</td>\n",
       "      <td>3</td>\n",
       "    </tr>\n",
       "    <tr>\n",
       "      <th>3</th>\n",
       "      <td>23.68</td>\n",
       "      <td>3.31</td>\n",
       "      <td>Male</td>\n",
       "      <td>No</td>\n",
       "      <td>Sun</td>\n",
       "      <td>Dinner</td>\n",
       "      <td>2</td>\n",
       "    </tr>\n",
       "    <tr>\n",
       "      <th>4</th>\n",
       "      <td>24.59</td>\n",
       "      <td>3.61</td>\n",
       "      <td>Female</td>\n",
       "      <td>No</td>\n",
       "      <td>Sun</td>\n",
       "      <td>Dinner</td>\n",
       "      <td>4</td>\n",
       "    </tr>\n",
       "  </tbody>\n",
       "</table>\n",
       "</div>"
      ],
      "text/plain": [
       "   total_bill   tip     sex smoker  day    time  size\n",
       "0       16.99  1.01  Female     No  Sun  Dinner     2\n",
       "1       10.34  1.66    Male     No  Sun  Dinner     3\n",
       "2       21.01  3.50    Male     No  Sun  Dinner     3\n",
       "3       23.68  3.31    Male     No  Sun  Dinner     2\n",
       "4       24.59  3.61  Female     No  Sun  Dinner     4"
      ]
     },
     "execution_count": 73,
     "metadata": {},
     "output_type": "execute_result"
    }
   ],
   "source": [
    "tips = sns.load_dataset(\"tips\")\n",
    "tips.head()"
   ]
  },
  {
   "cell_type": "markdown",
   "metadata": {},
   "source": [
    "### Barplot with seaborn"
   ]
  },
  {
   "cell_type": "code",
   "execution_count": 74,
   "metadata": {},
   "outputs": [
    {
     "data": {
      "image/png": "[encoded data removed]",
      "text/plain": [
       "<Figure size 792x576 with 1 Axes>"
      ]
     },
     "metadata": {},
     "output_type": "display_data"
    }
   ],
   "source": [
    "import seaborn as sns\n",
    "sns.set(style=\"whitegrid\")\n",
    "tips = sns.load_dataset(\"tips\")\n",
    "ax = sns.barplot(x=\"day\", y=\"total_bill\", data=tips)"
   ]
  },
  {
   "cell_type": "code",
   "execution_count": 75,
   "metadata": {},
   "outputs": [
    {
     "data": {
      "text/plain": [
       "<AxesSubplot:xlabel='day', ylabel='total_bill'>"
      ]
     },
     "execution_count": 75,
     "metadata": {},
     "output_type": "execute_result"
    },
    {
     "data": {
      "image/png": "[encoded data removed]",
      "text/plain": [
       "<Figure size 792x576 with 1 Axes>"
      ]
     },
     "metadata": {},
     "output_type": "display_data"
    }
   ],
   "source": [
    "# Draw a set of vertical bars with nested grouping by a two variables\n",
    "\n",
    "sns.barplot(x=\"day\", y=\"total_bill\", hue=\"sex\", data=tips)"
   ]
  },
  {
   "cell_type": "code",
   "execution_count": 76,
   "metadata": {},
   "outputs": [
    {
     "data": {
      "text/plain": [
       "<AxesSubplot:xlabel='total_bill', ylabel='day'>"
      ]
     },
     "execution_count": 76,
     "metadata": {},
     "output_type": "execute_result"
    },
    {
     "data": {
      "image/png": "[encoded data removed]",
      "text/plain": [
       "<Figure size 792x576 with 1 Axes>"
      ]
     },
     "metadata": {},
     "output_type": "display_data"
    }
   ],
   "source": [
    "# Draw a set of Horizonatl bars with nested grouping by a two variables\n",
    "\n",
    "sns.barplot(y=\"day\", x=\"total_bill\", hue=\"sex\", data=tips)"
   ]
  },
  {
   "cell_type": "markdown",
   "metadata": {},
   "source": [
    "# Symbolic Algebra\n",
    "SymPy is a Python library for symbolic mathematics"
   ]
  },
  {
   "cell_type": "markdown",
   "metadata": {},
   "source": [
    "##  Simplifing mathematical expressions"
   ]
  },
  {
   "cell_type": "code",
   "execution_count": 88,
   "metadata": {},
   "outputs": [],
   "source": [
    "import sympy\n",
    "from sympy import sin, cos, simplify, ln,symbols, diff, integrate, expand, sin, lambdify, integrals, Integral,log \n",
    "\n",
    "x, y, z, t = symbols('x y z t')\n",
    "\n"
   ]
  },
  {
   "cell_type": "code",
   "execution_count": 89,
   "metadata": {},
   "outputs": [
    {
     "data": {
      "text/latex": [
       "$\\displaystyle x - 1$"
      ],
      "text/plain": [
       "x - 1"
      ]
     },
     "execution_count": 89,
     "metadata": {},
     "output_type": "execute_result"
    }
   ],
   "source": [
    "simplify((x**3 + x**2 - x - 1)/(x**2 + 2*x + 1))"
   ]
  },
  {
   "cell_type": "code",
   "execution_count": 90,
   "metadata": {},
   "outputs": [
    {
     "data": {
      "text/latex": [
       "$\\displaystyle 1$"
      ],
      "text/plain": [
       "1"
      ]
     },
     "execution_count": 90,
     "metadata": {},
     "output_type": "execute_result"
    }
   ],
   "source": [
    "simplify(sin(x)**2 + cos(x)**2)"
   ]
  },
  {
   "cell_type": "code",
   "execution_count": null,
   "metadata": {},
   "outputs": [],
   "source": []
  },
  {
   "cell_type": "code",
   "execution_count": null,
   "metadata": {},
   "outputs": [],
   "source": [
    "expr = (x + 6)**2\n",
    "expand(expr)"
   ]
  },
  {
   "cell_type": "code",
   "execution_count": 78,
   "metadata": {},
   "outputs": [
    {
     "name": "stdout",
     "output_type": "stream",
     "text": [
      "Derivative =  2*x + 12\n",
      "Intergral0 =  x**2 + 12*x\n"
     ]
    }
   ],
   "source": [
    "derivative1=diff(expr)\n",
    "\n",
    "print(\"Derivative = \",derivative1)\n",
    "intergral0 = integrate(derivative1,x)\n",
    "print (\"Intergral0 = \",intergral0)"
   ]
  },
  {
   "cell_type": "code",
   "execution_count": 79,
   "metadata": {},
   "outputs": [
    {
     "name": "stdout",
     "output_type": "stream",
     "text": [
      "Intergral1 =  t*x*log((x + 6)**2) - 2*t*(x - 6*log(x + 6))\n"
     ]
    }
   ],
   "source": [
    "\n",
    "intergral1 = integrate(t*ln(expr),x)\n",
    "print (\"Intergral1 = \",intergral1)"
   ]
  },
  {
   "cell_type": "markdown",
   "metadata": {},
   "source": [
    "<h3>Numeric Computation on Symbolic Expression</h3>\n",
    "Use lambdify method from Sympy library to evalute integral expression using known data"
   ]
  },
  {
   "cell_type": "code",
   "execution_count": 80,
   "metadata": {},
   "outputs": [],
   "source": [
    "numeric_result=lambdify([t,x],intergral1, 'numpy') "
   ]
  },
  {
   "cell_type": "code",
   "execution_count": 81,
   "metadata": {},
   "outputs": [
    {
     "data": {
      "text/plain": [
       "<function _lambdifygenerated(t, x)>"
      ]
     },
     "execution_count": 81,
     "metadata": {},
     "output_type": "execute_result"
    }
   ],
   "source": [
    "numeric_result"
   ]
  },
  {
   "cell_type": "code",
   "execution_count": 82,
   "metadata": {},
   "outputs": [
    {
     "name": "stdout",
     "output_type": "stream",
     "text": [
      "[0.59662983 0.58643143 0.11461228 0.69464248 0.30066883 0.2133361\n",
      " 0.1022672  0.85615015 0.67999287 0.55375494]\n"
     ]
    },
    {
     "data": {
      "text/plain": [
       "array([16.64033983,  8.4328143 , 18.69720968, 15.1358066 ,  5.19676471,\n",
       "        3.62973888,  5.44326843, 11.16383192, 12.60299068,  6.78627154])"
      ]
     },
     "execution_count": 82,
     "metadata": {},
     "output_type": "execute_result"
    }
   ],
   "source": [
    "t1 = np.random.ranf((10))\n",
    "x1 = np.random.ranf((10))\n",
    "\n",
    "print (x1)\n",
    "numeric_result(t1,x1)"
   ]
  },
  {
   "cell_type": "code",
   "execution_count": 83,
   "metadata": {},
   "outputs": [],
   "source": [
    "from sympy.utilities.autowrap import ufuncify\n",
    "numeric_result2=ufuncify([t,x],intergral1)"
   ]
  },
  {
   "cell_type": "code",
   "execution_count": null,
   "metadata": {},
   "outputs": [],
   "source": [
    "numeric_result2(t1,x1)"
   ]
  },
  {
   "cell_type": "code",
   "execution_count": null,
   "metadata": {},
   "outputs": [],
   "source": [
    "n=1000\n",
    "i = np.random.ranf((n))\n",
    "j = np.random.ranf((n))\n",
    "\n",
    "%timeit p=numeric_result(i,j)\n",
    "%timeit p=numeric_result2(i,j)"
   ]
  },
  {
   "cell_type": "markdown",
   "metadata": {},
   "source": [
    "## Optimization  with Scipy"
   ]
  },
  {
   "cell_type": "markdown",
   "metadata": {},
   "source": [
    "SciPy optimize provides functions for minimizing (or maximizing) objective functions, possibly subject to constraints. It includes solvers for nonlinear problems (with support for both local and global optimization algorithms), linear programing, constrained and nonlinear least-squares, root finding, and curve fitting.\n",
    "<h4>Example</h4>\n",
    "\n",
    "    Let us consider the problem of minimizing the Rosenbrock function. This\n",
    "    function (and its respective derivatives) is implemented in `rosen`"
   ]
  },
  {
   "cell_type": "code",
   "execution_count": null,
   "metadata": {},
   "outputs": [],
   "source": [
    "\n",
    "from scipy.optimize import minimize, rosen_der\n",
    "def rosen(x):\n",
    "        \"\"\"The Rosenbrock function\"\"\"\n",
    "        \"\"\"  f(x,y) = (1-x)^2 + 100(y-x^2))2 \"\"\"\n",
    "        return sum(100.0*(x[1:]-x[:-1]**2.0)**2.0 + (1-x[:-1])**2.0)\n",
    "x0 = [1.3, 0.7, 0.8, 1.9, 1.2]\n",
    "#help (minimize)\n",
    "res = minimize(rosen, x0, method='bfgs', jac=rosen_der, options={'xtol': 1e-8,  'disp': True})\n",
    "print(res.x)"
   ]
  },
  {
   "cell_type": "markdown",
   "metadata": {},
   "source": [
    "        Other optimization algorithms include:\n",
    "        - 'Nelder-Mead'\n",
    "        - 'Powell'\n",
    "        - 'CG'\n",
    "        - 'BFGS'\n",
    "        - 'Newton-CG'\n",
    "        - 'L-BFGS-B'\n",
    "        - 'TNC'\n",
    "        - 'COBYLA'\n",
    "        - 'SLSQP'\n",
    "        - 'dogleg'\n",
    "        - 'trust-ncg'"
   ]
  },
  {
   "cell_type": "markdown",
   "metadata": {},
   "source": [
    "<h2>Machine Learning with Scikit-Learn</h2>\n",
    " A dataset is a dictionary-like object that holds all the data and some metadata about the data. This data is stored in the .data member, which is a n_samples, n_features array. In the case of supervised problem, one or more response variables are stored in the .target member. More details on the different datasets can be found in the dedicated section.\n",
    "For instance, in the case of the digits dataset, digits.data gives access to the features that can be used to classify the digits samples:"
   ]
  },
  {
   "cell_type": "code",
   "execution_count": null,
   "metadata": {},
   "outputs": [],
   "source": [
    "\n",
    "from sklearn import datasets\n",
    "iris = datasets.load_iris()\n",
    "digits = datasets.load_digits()"
   ]
  },
  {
   "cell_type": "code",
   "execution_count": null,
   "metadata": {},
   "outputs": [],
   "source": [
    "print (digits.data)"
   ]
  },
  {
   "cell_type": "code",
   "execution_count": null,
   "metadata": {},
   "outputs": [],
   "source": [
    "digits.data.shape"
   ]
  },
  {
   "cell_type": "code",
   "execution_count": null,
   "metadata": {},
   "outputs": [],
   "source": [
    "digits.data[0,:]"
   ]
  },
  {
   "cell_type": "code",
   "execution_count": null,
   "metadata": {},
   "outputs": [],
   "source": [
    "digits.target[0]"
   ]
  },
  {
   "cell_type": "code",
   "execution_count": null,
   "metadata": {},
   "outputs": [],
   "source": [
    "\n",
    "print(digits.target)"
   ]
  },
  {
   "cell_type": "code",
   "execution_count": null,
   "metadata": {},
   "outputs": [],
   "source": [
    "digits.target.shape"
   ]
  },
  {
   "cell_type": "code",
   "execution_count": null,
   "metadata": {},
   "outputs": [],
   "source": [
    "digits.images[0]"
   ]
  },
  {
   "cell_type": "code",
   "execution_count": null,
   "metadata": {},
   "outputs": [],
   "source": [
    "dir(digits)\n"
   ]
  },
  {
   "cell_type": "markdown",
   "metadata": {},
   "source": [
    "### Learning and Predicting using Support Vector Machines"
   ]
  },
  {
   "cell_type": "code",
   "execution_count": null,
   "metadata": {},
   "outputs": [],
   "source": [
    "from sklearn import svm\n",
    "clf = svm.SVC(gamma=0.001, C=100.)"
   ]
  },
  {
   "cell_type": "markdown",
   "metadata": {},
   "source": [
    "#### Perform Training"
   ]
  },
  {
   "cell_type": "code",
   "execution_count": null,
   "metadata": {},
   "outputs": [],
   "source": [
    "clf.fit(digits.data[:-1], digits.target[:-1])"
   ]
  },
  {
   "cell_type": "markdown",
   "metadata": {},
   "source": [
    "#### Perform Prediction"
   ]
  },
  {
   "cell_type": "code",
   "execution_count": null,
   "metadata": {},
   "outputs": [],
   "source": [
    "clf.predict(digits.data[-1:])"
   ]
  },
  {
   "cell_type": "code",
   "execution_count": null,
   "metadata": {},
   "outputs": [],
   "source": [
    "digits.target[-1]"
   ]
  },
  {
   "cell_type": "code",
   "execution_count": null,
   "metadata": {},
   "outputs": [],
   "source": [
    "plt.figure(figsize=(2, 2))\n",
    "plt.imshow(digits.images[-1], interpolation='nearest', cmap=plt.cm.binary)"
   ]
  },
  {
   "cell_type": "markdown",
   "metadata": {},
   "source": [
    "#### Save Your Model"
   ]
  },
  {
   "cell_type": "code",
   "execution_count": null,
   "metadata": {},
   "outputs": [],
   "source": [
    "from sklearn import svm\n",
    "from sklearn import datasets\n",
    "clf = svm.SVC()\n",
    "iris = datasets.load_iris()\n",
    "X, y = iris.data, iris.target\n",
    "clf.fit(X, y)"
   ]
  },
  {
   "cell_type": "code",
   "execution_count": null,
   "metadata": {},
   "outputs": [],
   "source": [
    "import pickle\n",
    "s = pickle.dumps(clf)\n",
    "clf2 = pickle.loads(s)\n",
    "clf2.predict(X[0:])"
   ]
  },
  {
   "cell_type": "code",
   "execution_count": null,
   "metadata": {},
   "outputs": [],
   "source": [
    "plt.figure(figsize=(2, 2))\n",
    "plt.imshow(digits.images[0], interpolation='nearest', cmap=plt.cm.binary)"
   ]
  },
  {
   "cell_type": "markdown",
   "metadata": {},
   "source": [
    "### Data Splitting\n",
    "#### Machine learning involves splitting data into training and test sets. <br> <br>  For splitting we can use the train_test_split method from the Scikit learn python package\n"
   ]
  },
  {
   "cell_type": "code",
   "execution_count": null,
   "metadata": {},
   "outputs": [],
   "source": [
    "from sklearn.model_selection import train_test_split\n",
    "\n",
    "X_train, X_test, y_train, y_test = train_test_split(digits.data, digits.target, random_state=0 )  \n",
    "#notice the function  returns a tuple"
   ]
  },
  {
   "cell_type": "code",
   "execution_count": null,
   "metadata": {},
   "outputs": [],
   "source": [
    "train_test_split?"
   ]
  },
  {
   "cell_type": "markdown",
   "metadata": {},
   "source": [
    "# Building the models\n",
    "Building models is fairly straigt forward.\n",
    "<br><br> 1. Choose/create an estimator object. \n",
    "<br><br> 2. Fit data to estimator object to get the model. This is the training step/phase\n",
    "<br><br> 3. Evaluate the models performance.  \n",
    "## Logistic Regression"
   ]
  },
  {
   "cell_type": "code",
   "execution_count": null,
   "metadata": {},
   "outputs": [],
   "source": [
    "ympy# step 1 Choose/create a logstic regression estimator\n",
    "#1a choose estimator\n",
    "from sklearn.linear_model import LogisticRegression\n",
    "\n",
    "#1b create estimator object\n",
    "logreg = LogisticRegression( )   \n",
    "\n",
    "# step 2 : fit data to estimator object i.e. train your estimator\n",
    "logreg.fit(X_train, y_train)    \n",
    "\n",
    "#step 3a: evaluate models performance, first for trainining set, then for test set. We use the score method for this\n",
    "print('Accuracy of Logistic regression classifier on training set: {:.2f}' \n",
    "     .format(logreg.score(X_train, y_train))) \n",
    "\n",
    "#step 3b: evaluate models performance,  for test set. \n",
    "print('Accuracy of Logistic regression classifier on test set: {:.2f}'\n",
    "     .format(logreg.score(X_test, y_test)))"
   ]
  },
  {
   "cell_type": "markdown",
   "metadata": {},
   "source": [
    "### Can we improve the results using same method?\n",
    "#### lookup available solvers"
   ]
  },
  {
   "cell_type": "code",
   "execution_count": null,
   "metadata": {},
   "outputs": [],
   "source": [
    "\n",
    "from sklearn.linear_model import LogisticRegression\n",
    "\n",
    "\n",
    "logreg = LogisticRegression(solver='saga',multi_class='auto') # set parameters\n",
    "\n",
    "logreg.fit(X_train, y_train)\n",
    "\n",
    "print('Accuracy of Logistic regression classifier on training set: {:.2f}'\n",
    "     .format(logreg.score(X_train, y_train)))\n",
    "print('Accuracy of Logistic regression classifier on test set: {:.2f}'\n",
    "     .format(logreg.score(X_test, y_test)))"
   ]
  },
  {
   "cell_type": "markdown",
   "metadata": {},
   "source": [
    "### What about Support Vector Machines (SVM)?\n",
    " "
   ]
  },
  {
   "cell_type": "code",
   "execution_count": null,
   "metadata": {},
   "outputs": [],
   "source": [
    "from sklearn.svm import SVC\n",
    "\n",
    "svm =  SVC()\n",
    "svm.fit(X_train, y_train)\n",
    "print('Accuracy of SVM classifier on training set: {:.2f}'\n",
    "     .format(svm.score(X_train, y_train)))\n",
    "print('Accuracy of SVM classifier on test set: {:.2f}'\n",
    "     .format(svm.score(X_test, y_test)))\n"
   ]
  },
  {
   "cell_type": "code",
   "execution_count": null,
   "metadata": {},
   "outputs": [],
   "source": [
    "from sklearn.svm import SVC\n",
    "\n",
    "svm =  SVC(gamma=0.001, C=100.) # with tuned parameters\n",
    "svm.fit(X_train, y_train)\n",
    "print('Accuracy of SVM classifier on training set: {:.2f}'\n",
    "     .format(svm.score(X_train, y_train)))\n",
    "print('Accuracy of SVM classifier on test set: {:.2f}'\n",
    "     .format(svm.score(X_test, y_test)))"
   ]
  },
  {
   "cell_type": "markdown",
   "metadata": {},
   "source": [
    "### Exercise\n",
    "#### Use Logistic Regression to classify the Bioresponse dataset into actives and inactives"
   ]
  },
  {
   "cell_type": "code",
   "execution_count": null,
   "metadata": {},
   "outputs": [],
   "source": [
    "#Exercise: Use LogisticRegression to \n",
    "# classify the Bioresponse dataset into actives and inactives\n",
    "\n",
    "from sklearn.datasets import fetch_openml\n",
    "bdata = fetch_openml(name='Bioresponse')\n",
    "print (bdata.data.shape)\n",
    " \n"
   ]
  },
  {
   "cell_type": "code",
   "execution_count": null,
   "metadata": {},
   "outputs": [],
   "source": [
    "print (bdata.target.shape)\n",
    "bdata.target[-5]"
   ]
  },
  {
   "cell_type": "code",
   "execution_count": null,
   "metadata": {},
   "outputs": [],
   "source": [
    "from scipy import stats\n",
    "a = bdata.target.astype(int) \n",
    "a.dtype\n",
    "stats.describe(a)\n",
    "\n",
    "X=bdata.data\n",
    "Y=bdata.target.astype(int)"
   ]
  },
  {
   "cell_type": "code",
   "execution_count": null,
   "metadata": {},
   "outputs": [],
   "source": [
    "X=bdata.data\n",
    "Y=bdata.target.astype(int)"
   ]
  },
  {
   "cell_type": "code",
   "execution_count": null,
   "metadata": {},
   "outputs": [],
   "source": []
  }
 ],
 "metadata": {
  "kernelspec": {
   "display_name": "Python 3 (ipykernel)",
   "language": "python",
   "name": "python3"
  },
  "language_info": {
   "codemirror_mode": {
    "name": "ipython",
    "version": 3
   },
   "file_extension": ".py",
   "mimetype": "text/x-python",
   "name": "python",
   "nbconvert_exporter": "python",
   "pygments_lexer": "ipython3",
   "version": "3.10.9"
  }
 },
 "nbformat": 4,
 "nbformat_minor": 4
}
